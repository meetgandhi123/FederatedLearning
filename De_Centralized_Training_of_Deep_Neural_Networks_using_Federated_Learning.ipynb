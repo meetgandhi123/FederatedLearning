{
  "cells": [
    {
      "cell_type": "markdown",
      "source": [
        "# Abstract: \n",
        "\n",
        "There has been a sudden increase in the use of Deep Learning in tasks ranging from image classification to generating complex models like GPT 3. One of the most common things with the Machine Learning or Deep Learning pipeline is that the entire process is done on the same server. The training, testing, and validation data are on the same machine. In this post, we are going to talk about how decentralized training of deep learning models takes place and what are the advantages associated with this approach. We are using the TensorFlow-Federated framework along with the MNIST dataset to show the working of Federated Learning. We also analyze the model accuracy and processing time for each iteration with the number of clients present in the system."
      ],
      "metadata": {
        "id": "NPFhonK-xYRc"
      }
    },
    {
      "cell_type": "markdown",
      "metadata": {
        "id": "bo3hu9gKbdJ2"
      },
      "source": [
        "# Loading Libraries"
      ]
    },
    {
      "cell_type": "code",
      "execution_count": null,
      "metadata": {
        "colab": {
          "base_uri": "https://localhost:8080/"
        },
        "id": "o8X3D0ETbV67",
        "outputId": "35fe7342-c3f5-4851-909d-496b2166ffb3"
      },
      "outputs": [
        {
          "output_type": "stream",
          "name": "stdout",
          "text": [
            "\u001b[K     |████████████████████████████████| 819 kB 5.4 MB/s \n",
            "\u001b[K     |████████████████████████████████| 45 kB 3.2 MB/s \n",
            "\u001b[K     |████████████████████████████████| 251 kB 45.3 MB/s \n",
            "\u001b[K     |████████████████████████████████| 121 kB 43.8 MB/s \n",
            "\u001b[K     |████████████████████████████████| 4.0 MB 36.4 MB/s \n",
            "\u001b[K     |████████████████████████████████| 887 kB 43.9 MB/s \n",
            "\u001b[K     |████████████████████████████████| 237 kB 38.5 MB/s \n",
            "\u001b[K     |████████████████████████████████| 65.1 MB 88 kB/s \n",
            "\u001b[K     |████████████████████████████████| 53 kB 2.1 MB/s \n",
            "\u001b[K     |████████████████████████████████| 462 kB 44.9 MB/s \n",
            "\u001b[K     |████████████████████████████████| 4.2 MB 32.8 MB/s \n",
            "\u001b[?25h  Building wheel for jax (setup.py) ... \u001b[?25l\u001b[?25hdone\n",
            "\u001b[31mERROR: pip's dependency resolver does not currently take into account all the packages that are installed. This behaviour is the source of the following dependency conflicts.\n",
            "spacy 2.2.4 requires tqdm<5.0.0,>=4.38.0, but you have tqdm 4.28.1 which is incompatible.\n",
            "pymc3 3.11.4 requires cachetools>=4.2.1, but you have cachetools 3.1.1 which is incompatible.\n",
            "panel 0.12.1 requires tqdm>=4.48.0, but you have tqdm 4.28.1 which is incompatible.\n",
            "fbprophet 0.7.1 requires tqdm>=4.36.1, but you have tqdm 4.28.1 which is incompatible.\n",
            "datascience 0.10.6 requires folium==0.2.1, but you have folium 0.8.3 which is incompatible.\u001b[0m\n"
          ]
        }
      ],
      "source": [
        "!pip install --quiet --upgrade tensorflow-federated==0.20.0\n",
        "!pip install --quiet --upgrade nest-asyncio\n",
        "\n",
        "import nest_asyncio\n",
        "nest_asyncio.apply()"
      ]
    },
    {
      "cell_type": "code",
      "execution_count": null,
      "metadata": {
        "id": "ZUlDl3Fccgy3"
      },
      "outputs": [],
      "source": [
        "%load_ext tensorboard"
      ]
    },
    {
      "cell_type": "code",
      "execution_count": null,
      "metadata": {
        "colab": {
          "base_uri": "https://localhost:8080/"
        },
        "id": "kLs17w35cBJU",
        "outputId": "e8252738-71ce-4522-da50-cdfc536ecaf3"
      },
      "outputs": [
        {
          "output_type": "execute_result",
          "data": {
            "text/plain": [
              "b'Hello, World!'"
            ]
          },
          "metadata": {},
          "execution_count": 3
        }
      ],
      "source": [
        "import collections\n",
        "import numpy as np\n",
        "import tensorflow as tf\n",
        "import tensorflow_federated as tff\n",
        "\n",
        "np.random.seed(0)\n",
        "\n",
        "tff.federated_computation(lambda: 'Hello, World!')()"
      ]
    },
    {
      "cell_type": "markdown",
      "metadata": {
        "id": "XA2UAYfrbiF9"
      },
      "source": [
        "# Load Data"
      ]
    },
    {
      "cell_type": "code",
      "execution_count": null,
      "metadata": {
        "colab": {
          "base_uri": "https://localhost:8080/"
        },
        "id": "NVIB7KUxbbV7",
        "outputId": "49dc7f0b-cbba-4e94-ca3a-619458dfd07f"
      },
      "outputs": [
        {
          "output_type": "stream",
          "name": "stderr",
          "text": [
            "Downloading emnist_all.sqlite.lzma: 100%|██████████| 170507172/170507172 [00:47<00:00, 3953937.32it/s]\n"
          ]
        },
        {
          "output_type": "stream",
          "name": "stdout",
          "text": [
            "3383\n",
            "OrderedDict([('label', TensorSpec(shape=(), dtype=tf.int32, name=None)), ('pixels', TensorSpec(shape=(28, 28), dtype=tf.float32, name=None))])\n"
          ]
        }
      ],
      "source": [
        "emnist_train, emnist_test = tff.simulation.datasets.emnist.load_data()\n",
        "print(len(emnist_train.client_ids))\n",
        "print(emnist_train.element_type_structure)"
      ]
    },
    {
      "cell_type": "markdown",
      "metadata": {
        "id": "yLEJWh2fbryE"
      },
      "source": [
        "# Visualization of Data"
      ]
    },
    {
      "cell_type": "code",
      "execution_count": null,
      "metadata": {
        "colab": {
          "base_uri": "https://localhost:8080/"
        },
        "id": "RpnI719pbrWw",
        "outputId": "0abc88ce-7749-4d43-9d91-fe15ae2fac92"
      },
      "outputs": [
        {
          "output_type": "display_data",
          "data": {
            "text/plain": [
              "<Figure size 432x288 with 1 Axes>"
            ],
            "image/png": "[encoded data removed]"
          },
          "metadata": {
            "needs_background": "light"
          }
        }
      ],
      "source": [
        "example_dataset = emnist_train.create_tf_dataset_for_client(\n",
        "    emnist_train.client_ids[0])\n",
        "\n",
        "example_element = next(iter(example_dataset))\n",
        "\n",
        "example_element['label'].numpy()\n",
        "\n",
        "from matplotlib import pyplot as plt\n",
        "plt.imshow(example_element['pixels'].numpy(), cmap='gray', aspect='equal')\n",
        "plt.grid(False)\n",
        "_ = plt.show()"
      ]
    },
    {
      "cell_type": "code",
      "execution_count": null,
      "metadata": {
        "colab": {
          "base_uri": "https://localhost:8080/"
        },
        "id": "nsGtx5hTbur0",
        "outputId": "0b6ff798-de51-4c07-e7ce-65b5dfa514ad"
      },
      "outputs": [
        {
          "output_type": "display_data",
          "data": {
            "text/plain": [
              "<Figure size 864x504 with 6 Axes>"
            ],
            "image/png": "[encoded data removed]"
          },
          "metadata": {
            "needs_background": "light"
          }
        }
      ],
      "source": [
        "# Number of examples per layer for a sample of clients\n",
        "f = plt.figure(figsize=(12, 7))\n",
        "f.suptitle('Label Counts for a Sample of Clients')\n",
        "for i in range(6):\n",
        "  client_dataset = emnist_train.create_tf_dataset_for_client(\n",
        "      emnist_train.client_ids[i])\n",
        "  plot_data = collections.defaultdict(list)\n",
        "  for example in client_dataset:\n",
        "    # Append counts individually per label to make plots\n",
        "    # more colorful instead of one color per plot.\n",
        "    label = example['label'].numpy()\n",
        "    plot_data[label].append(label)\n",
        "  plt.subplot(2, 3, i+1)\n",
        "  plt.title('Client {}'.format(i))\n",
        "  for j in range(10):\n",
        "    plt.hist(\n",
        "        plot_data[j],\n",
        "        density=False,\n",
        "        bins=[0, 1, 2, 3, 4, 5, 6, 7, 8, 9, 10])"
      ]
    },
    {
      "cell_type": "markdown",
      "metadata": {
        "id": "09bOJAaZdLOx"
      },
      "source": [
        "# Pre-Process"
      ]
    },
    {
      "cell_type": "code",
      "execution_count": null,
      "metadata": {
        "id": "stzjULnLb6c3"
      },
      "outputs": [],
      "source": [
        "NUM_CLIENTS = 5\n",
        "NUM_EPOCHS = 200\n",
        "BATCH_SIZE = 20\n",
        "SHUFFLE_BUFFER = 100\n",
        "PREFETCH_BUFFER = 10\n",
        "\n",
        "def preprocess(dataset):\n",
        "\n",
        "  def batch_format_fn(element):\n",
        "    return collections.OrderedDict(\n",
        "        x=tf.reshape(element['pixels'], [-1, 784]),\n",
        "        y=tf.reshape(element['label'], [-1, 1]))\n",
        "\n",
        "  return dataset.repeat(NUM_EPOCHS).shuffle(SHUFFLE_BUFFER, seed=1).batch(\n",
        "      BATCH_SIZE).map(batch_format_fn).prefetch(PREFETCH_BUFFER)"
      ]
    },
    {
      "cell_type": "code",
      "execution_count": null,
      "metadata": {
        "colab": {
          "base_uri": "https://localhost:8080/"
        },
        "id": "e3v36q9mdOY1",
        "outputId": "beef22f1-7555-4833-dc77-7d3c1175fe15"
      },
      "outputs": [
        {
          "data": {
            "text/plain": [
              "OrderedDict([('x', array([[1., 1., 1., ..., 1., 1., 1.],\n",
              "                     [1., 1., 1., ..., 1., 1., 1.],\n",
              "                     [1., 1., 1., ..., 1., 1., 1.],\n",
              "                     ...,\n",
              "                     [1., 1., 1., ..., 1., 1., 1.],\n",
              "                     [1., 1., 1., ..., 1., 1., 1.],\n",
              "                     [1., 1., 1., ..., 1., 1., 1.]], dtype=float32)),\n",
              "             ('y', array([[2],\n",
              "                     [1],\n",
              "                     [5],\n",
              "                     [7],\n",
              "                     [1],\n",
              "                     [7],\n",
              "                     [7],\n",
              "                     [1],\n",
              "                     [4],\n",
              "                     [7],\n",
              "                     [4],\n",
              "                     [2],\n",
              "                     [2],\n",
              "                     [5],\n",
              "                     [4],\n",
              "                     [1],\n",
              "                     [1],\n",
              "                     [0],\n",
              "                     [0],\n",
              "                     [9]], dtype=int32))])"
            ]
          },
          "execution_count": 8,
          "metadata": {},
          "output_type": "execute_result"
        }
      ],
      "source": [
        "preprocessed_example_dataset = preprocess(example_dataset)\n",
        "\n",
        "sample_batch = tf.nest.map_structure(lambda x: x.numpy(),\n",
        "                                     next(iter(preprocessed_example_dataset)))\n",
        "\n",
        "sample_batch"
      ]
    },
    {
      "cell_type": "code",
      "execution_count": null,
      "metadata": {
        "id": "C9hLayrUdQmA"
      },
      "outputs": [],
      "source": [
        "def make_federated_data(client_data, client_ids):\n",
        "  return [\n",
        "      preprocess(client_data.create_tf_dataset_for_client(x))\n",
        "      for x in client_ids\n",
        "  ]"
      ]
    },
    {
      "cell_type": "code",
      "execution_count": null,
      "metadata": {
        "colab": {
          "base_uri": "https://localhost:8080/"
        },
        "id": "IkbjVWwfdSNg",
        "outputId": "281dafe5-486c-41f8-eb5a-fb996c0eee84"
      },
      "outputs": [
        {
          "name": "stdout",
          "output_type": "stream",
          "text": [
            "Number of client datasets: 5\n",
            "First dataset: <PrefetchDataset element_spec=OrderedDict([('x', TensorSpec(shape=(None, 784), dtype=tf.float32, name=None)), ('y', TensorSpec(shape=(None, 1), dtype=tf.int32, name=None))])>\n"
          ]
        }
      ],
      "source": [
        "sample_clients = emnist_train.client_ids[0:NUM_CLIENTS]\n",
        "\n",
        "federated_train_data = make_federated_data(emnist_train, sample_clients)\n",
        "\n",
        "print(f'Number of client datasets: {len(federated_train_data)}')\n",
        "print(f'First dataset: {federated_train_data[0]}')"
      ]
    },
    {
      "cell_type": "markdown",
      "metadata": {
        "id": "6w3jDK59dWPj"
      },
      "source": [
        "# model with Keras"
      ]
    },
    {
      "cell_type": "code",
      "execution_count": null,
      "metadata": {
        "id": "N57OVpbtdTV6"
      },
      "outputs": [],
      "source": [
        "from tensorflow import keras\n",
        "from tensorflow.keras import layers\n",
        "\n",
        "def create_keras_model():\n",
        "  model = keras.Sequential(\n",
        "    [\n",
        "        keras.Input(shape=(784,)),\n",
        "        layers.Dense(512, activation='relu'),\n",
        "        layers.Dense(256, activation='relu'),\n",
        "        layers.Dropout(0.5),\n",
        "        layers.Dense(10, activation=\"softmax\"),\n",
        "    ]\n",
        ")\n",
        "\n",
        "  return model"
      ]
    },
    {
      "cell_type": "code",
      "execution_count": null,
      "metadata": {
        "id": "ARuWKOb1dYDN"
      },
      "outputs": [],
      "source": [
        "def model_fn():\n",
        "  # We _must_ create a new model here, and _not_ capture it from an external\n",
        "  # scope. TFF will call this within different graph contexts.\n",
        "  keras_model = create_keras_model()\n",
        "  return tff.learning.from_keras_model(\n",
        "      keras_model,\n",
        "      input_spec=preprocessed_example_dataset.element_spec,\n",
        "      loss=tf.keras.losses.SparseCategoricalCrossentropy(),\n",
        "      metrics=[tf.keras.metrics.SparseCategoricalAccuracy()])"
      ]
    },
    {
      "cell_type": "code",
      "execution_count": null,
      "metadata": {
        "colab": {
          "base_uri": "https://localhost:8080/",
          "height": 839
        },
        "id": "Ke0HM2zNkI96",
        "outputId": "c0bb8c72-e54c-4dd4-e81d-e4f1e017877f"
      },
      "outputs": [
        {
          "name": "stdout",
          "output_type": "stream",
          "text": [
            "Model: \"sequential\"\n",
            "_________________________________________________________________\n",
            " Layer (type)                Output Shape              Param #   \n",
            "=================================================================\n",
            " dense (Dense)               (None, 512)               401920    \n",
            "                                                                 \n",
            " dense_1 (Dense)             (None, 256)               131328    \n",
            "                                                                 \n",
            " dropout (Dropout)           (None, 256)               0         \n",
            "                                                                 \n",
            " dense_2 (Dense)             (None, 10)                2570      \n",
            "                                                                 \n",
            "=================================================================\n",
            "Total params: 535,818\n",
            "Trainable params: 535,818\n",
            "Non-trainable params: 0\n",
            "_________________________________________________________________\n",
            "None\n"
          ]
        },
        {
          "data": {
            "image/png": "[encoded data removed]",
            "text/plain": [
              "<IPython.core.display.Image object>"
            ]
          },
          "execution_count": 13,
          "metadata": {},
          "output_type": "execute_result"
        }
      ],
      "source": [
        "from keras.utils.vis_utils import plot_model\n",
        "keras_model = create_keras_model()\n",
        "print(keras_model.summary())\n",
        "plot_model(keras_model, to_file='model_plot.png', show_shapes=True, show_layer_names=True)"
      ]
    },
    {
      "cell_type": "markdown",
      "metadata": {
        "id": "Ud-gDfA6dbbD"
      },
      "source": [
        "# Training the model on federated data"
      ]
    },
    {
      "cell_type": "code",
      "execution_count": null,
      "metadata": {
        "id": "c4DHIpdQdZYk"
      },
      "outputs": [],
      "source": [
        "iterative_process = tff.learning.build_federated_averaging_process(\n",
        "    model_fn,\n",
        "    client_optimizer_fn=lambda: tf.keras.optimizers.SGD(learning_rate=0.02),\n",
        "    server_optimizer_fn=lambda: tf.keras.optimizers.SGD(learning_rate=1.0))"
      ]
    },
    {
      "cell_type": "code",
      "execution_count": null,
      "metadata": {
        "id": "lOS7zwjYddHU"
      },
      "outputs": [],
      "source": [
        "state = iterative_process.initialize()"
      ]
    },
    {
      "cell_type": "code",
      "execution_count": null,
      "metadata": {
        "colab": {
          "base_uri": "https://localhost:8080/"
        },
        "id": "AzUEQ6eZcMry",
        "outputId": "7f6705ac-445d-4a11-f706-18ebbb43c58d"
      },
      "outputs": [
        {
          "name": "stdout",
          "output_type": "stream",
          "text": [
            "round  1, metrics=OrderedDict([('broadcast', ()), ('aggregation', OrderedDict([('mean_value', ()), ('mean_weight', ())])), ('train', OrderedDict([('sparse_categorical_accuracy', 0.12083333), ('loss', 2.4941545), ('num_examples', 2400), ('num_batches', 123)]))])\n",
            "round  2, metrics=OrderedDict([('broadcast', ()), ('aggregation', OrderedDict([('mean_value', ()), ('mean_weight', ())])), ('train', OrderedDict([('sparse_categorical_accuracy', 0.14458333), ('loss', 2.2799745), ('num_examples', 2400), ('num_batches', 123)]))])\n",
            "round  3, metrics=OrderedDict([('broadcast', ()), ('aggregation', OrderedDict([('mean_value', ()), ('mean_weight', ())])), ('train', OrderedDict([('sparse_categorical_accuracy', 0.16583334), ('loss', 2.252829), ('num_examples', 2400), ('num_batches', 123)]))])\n",
            "round  4, metrics=OrderedDict([('broadcast', ()), ('aggregation', OrderedDict([('mean_value', ()), ('mean_weight', ())])), ('train', OrderedDict([('sparse_categorical_accuracy', 0.19166666), ('loss', 2.222153), ('num_examples', 2400), ('num_batches', 123)]))])\n",
            "round  5, metrics=OrderedDict([('broadcast', ()), ('aggregation', OrderedDict([('mean_value', ()), ('mean_weight', ())])), ('train', OrderedDict([('sparse_categorical_accuracy', 0.195), ('loss', 2.199713), ('num_examples', 2400), ('num_batches', 123)]))])\n",
            "round  6, metrics=OrderedDict([('broadcast', ()), ('aggregation', OrderedDict([('mean_value', ()), ('mean_weight', ())])), ('train', OrderedDict([('sparse_categorical_accuracy', 0.21791667), ('loss', 2.1659305), ('num_examples', 2400), ('num_batches', 123)]))])\n",
            "round  7, metrics=OrderedDict([('broadcast', ()), ('aggregation', OrderedDict([('mean_value', ()), ('mean_weight', ())])), ('train', OrderedDict([('sparse_categorical_accuracy', 0.23583333), ('loss', 2.1224852), ('num_examples', 2400), ('num_batches', 123)]))])\n",
            "round  8, metrics=OrderedDict([('broadcast', ()), ('aggregation', OrderedDict([('mean_value', ()), ('mean_weight', ())])), ('train', OrderedDict([('sparse_categorical_accuracy', 0.25541666), ('loss', 2.0676322), ('num_examples', 2400), ('num_batches', 123)]))])\n",
            "round  9, metrics=OrderedDict([('broadcast', ()), ('aggregation', OrderedDict([('mean_value', ()), ('mean_weight', ())])), ('train', OrderedDict([('sparse_categorical_accuracy', 0.28125), ('loss', 2.0203094), ('num_examples', 2400), ('num_batches', 123)]))])\n",
            "round 10, metrics=OrderedDict([('broadcast', ()), ('aggregation', OrderedDict([('mean_value', ()), ('mean_weight', ())])), ('train', OrderedDict([('sparse_categorical_accuracy', 0.29458332), ('loss', 2.0011523), ('num_examples', 2400), ('num_batches', 123)]))])\n",
            "round 11, metrics=OrderedDict([('broadcast', ()), ('aggregation', OrderedDict([('mean_value', ()), ('mean_weight', ())])), ('train', OrderedDict([('sparse_categorical_accuracy', 0.28708333), ('loss', 1.9782416), ('num_examples', 2400), ('num_batches', 123)]))])\n",
            "round 12, metrics=OrderedDict([('broadcast', ()), ('aggregation', OrderedDict([('mean_value', ()), ('mean_weight', ())])), ('train', OrderedDict([('sparse_categorical_accuracy', 0.3125), ('loss', 1.9326587), ('num_examples', 2400), ('num_batches', 123)]))])\n",
            "round 13, metrics=OrderedDict([('broadcast', ()), ('aggregation', OrderedDict([('mean_value', ()), ('mean_weight', ())])), ('train', OrderedDict([('sparse_categorical_accuracy', 0.36), ('loss', 1.8414574), ('num_examples', 2400), ('num_batches', 123)]))])\n",
            "round 14, metrics=OrderedDict([('broadcast', ()), ('aggregation', OrderedDict([('mean_value', ()), ('mean_weight', ())])), ('train', OrderedDict([('sparse_categorical_accuracy', 0.3225), ('loss', 1.8786765), ('num_examples', 2400), ('num_batches', 123)]))])\n",
            "round 15, metrics=OrderedDict([('broadcast', ()), ('aggregation', OrderedDict([('mean_value', ()), ('mean_weight', ())])), ('train', OrderedDict([('sparse_categorical_accuracy', 0.36958334), ('loss', 1.8304806), ('num_examples', 2400), ('num_batches', 123)]))])\n",
            "round 16, metrics=OrderedDict([('broadcast', ()), ('aggregation', OrderedDict([('mean_value', ()), ('mean_weight', ())])), ('train', OrderedDict([('sparse_categorical_accuracy', 0.3525), ('loss', 1.7920241), ('num_examples', 2400), ('num_batches', 123)]))])\n",
            "round 17, metrics=OrderedDict([('broadcast', ()), ('aggregation', OrderedDict([('mean_value', ()), ('mean_weight', ())])), ('train', OrderedDict([('sparse_categorical_accuracy', 0.41291666), ('loss', 1.7217716), ('num_examples', 2400), ('num_batches', 123)]))])\n",
            "round 18, metrics=OrderedDict([('broadcast', ()), ('aggregation', OrderedDict([('mean_value', ()), ('mean_weight', ())])), ('train', OrderedDict([('sparse_categorical_accuracy', 0.39708334), ('loss', 1.7122612), ('num_examples', 2400), ('num_batches', 123)]))])\n",
            "round 19, metrics=OrderedDict([('broadcast', ()), ('aggregation', OrderedDict([('mean_value', ()), ('mean_weight', ())])), ('train', OrderedDict([('sparse_categorical_accuracy', 0.39708334), ('loss', 1.6989434), ('num_examples', 2400), ('num_batches', 123)]))])\n",
            "round 20, metrics=OrderedDict([('broadcast', ()), ('aggregation', OrderedDict([('mean_value', ()), ('mean_weight', ())])), ('train', OrderedDict([('sparse_categorical_accuracy', 0.41), ('loss', 1.7038578), ('num_examples', 2400), ('num_batches', 123)]))])\n",
            "round 21, metrics=OrderedDict([('broadcast', ()), ('aggregation', OrderedDict([('mean_value', ()), ('mean_weight', ())])), ('train', OrderedDict([('sparse_categorical_accuracy', 0.43208334), ('loss', 1.6225532), ('num_examples', 2400), ('num_batches', 123)]))])\n",
            "round 22, metrics=OrderedDict([('broadcast', ()), ('aggregation', OrderedDict([('mean_value', ()), ('mean_weight', ())])), ('train', OrderedDict([('sparse_categorical_accuracy', 0.43708333), ('loss', 1.601844), ('num_examples', 2400), ('num_batches', 123)]))])\n",
            "round 23, metrics=OrderedDict([('broadcast', ()), ('aggregation', OrderedDict([('mean_value', ()), ('mean_weight', ())])), ('train', OrderedDict([('sparse_categorical_accuracy', 0.47166666), ('loss', 1.5062184), ('num_examples', 2400), ('num_batches', 123)]))])\n",
            "round 24, metrics=OrderedDict([('broadcast', ()), ('aggregation', OrderedDict([('mean_value', ()), ('mean_weight', ())])), ('train', OrderedDict([('sparse_categorical_accuracy', 0.45916668), ('loss', 1.555427), ('num_examples', 2400), ('num_batches', 123)]))])\n",
            "round 25, metrics=OrderedDict([('broadcast', ()), ('aggregation', OrderedDict([('mean_value', ()), ('mean_weight', ())])), ('train', OrderedDict([('sparse_categorical_accuracy', 0.48583335), ('loss', 1.4768251), ('num_examples', 2400), ('num_batches', 123)]))])\n",
            "round 26, metrics=OrderedDict([('broadcast', ()), ('aggregation', OrderedDict([('mean_value', ()), ('mean_weight', ())])), ('train', OrderedDict([('sparse_categorical_accuracy', 0.5158333), ('loss', 1.3941604), ('num_examples', 2400), ('num_batches', 123)]))])\n",
            "round 27, metrics=OrderedDict([('broadcast', ()), ('aggregation', OrderedDict([('mean_value', ()), ('mean_weight', ())])), ('train', OrderedDict([('sparse_categorical_accuracy', 0.51), ('loss', 1.4105211), ('num_examples', 2400), ('num_batches', 123)]))])\n",
            "round 28, metrics=OrderedDict([('broadcast', ()), ('aggregation', OrderedDict([('mean_value', ()), ('mean_weight', ())])), ('train', OrderedDict([('sparse_categorical_accuracy', 0.505), ('loss', 1.4524255), ('num_examples', 2400), ('num_batches', 123)]))])\n",
            "round 29, metrics=OrderedDict([('broadcast', ()), ('aggregation', OrderedDict([('mean_value', ()), ('mean_weight', ())])), ('train', OrderedDict([('sparse_categorical_accuracy', 0.55041665), ('loss', 1.3225813), ('num_examples', 2400), ('num_batches', 123)]))])\n",
            "round 30, metrics=OrderedDict([('broadcast', ()), ('aggregation', OrderedDict([('mean_value', ()), ('mean_weight', ())])), ('train', OrderedDict([('sparse_categorical_accuracy', 0.50875), ('loss', 1.4160825), ('num_examples', 2400), ('num_batches', 123)]))])\n",
            "round 31, metrics=OrderedDict([('broadcast', ()), ('aggregation', OrderedDict([('mean_value', ()), ('mean_weight', ())])), ('train', OrderedDict([('sparse_categorical_accuracy', 0.5425), ('loss', 1.3753889), ('num_examples', 2400), ('num_batches', 123)]))])\n",
            "round 32, metrics=OrderedDict([('broadcast', ()), ('aggregation', OrderedDict([('mean_value', ()), ('mean_weight', ())])), ('train', OrderedDict([('sparse_categorical_accuracy', 0.52708334), ('loss', 1.3930941), ('num_examples', 2400), ('num_batches', 123)]))])\n",
            "round 33, metrics=OrderedDict([('broadcast', ()), ('aggregation', OrderedDict([('mean_value', ()), ('mean_weight', ())])), ('train', OrderedDict([('sparse_categorical_accuracy', 0.58166665), ('loss', 1.2261796), ('num_examples', 2400), ('num_batches', 123)]))])\n",
            "round 34, metrics=OrderedDict([('broadcast', ()), ('aggregation', OrderedDict([('mean_value', ()), ('mean_weight', ())])), ('train', OrderedDict([('sparse_categorical_accuracy', 0.56416667), ('loss', 1.2810436), ('num_examples', 2400), ('num_batches', 123)]))])\n",
            "round 35, metrics=OrderedDict([('broadcast', ()), ('aggregation', OrderedDict([('mean_value', ()), ('mean_weight', ())])), ('train', OrderedDict([('sparse_categorical_accuracy', 0.60625), ('loss', 1.1702746), ('num_examples', 2400), ('num_batches', 123)]))])\n",
            "round 36, metrics=OrderedDict([('broadcast', ()), ('aggregation', OrderedDict([('mean_value', ()), ('mean_weight', ())])), ('train', OrderedDict([('sparse_categorical_accuracy', 0.5995833), ('loss', 1.1703458), ('num_examples', 2400), ('num_batches', 123)]))])\n",
            "round 37, metrics=OrderedDict([('broadcast', ()), ('aggregation', OrderedDict([('mean_value', ()), ('mean_weight', ())])), ('train', OrderedDict([('sparse_categorical_accuracy', 0.63), ('loss', 1.1124055), ('num_examples', 2400), ('num_batches', 123)]))])\n",
            "round 38, metrics=OrderedDict([('broadcast', ()), ('aggregation', OrderedDict([('mean_value', ()), ('mean_weight', ())])), ('train', OrderedDict([('sparse_categorical_accuracy', 0.61541665), ('loss', 1.1645076), ('num_examples', 2400), ('num_batches', 123)]))])\n",
            "round 39, metrics=OrderedDict([('broadcast', ()), ('aggregation', OrderedDict([('mean_value', ()), ('mean_weight', ())])), ('train', OrderedDict([('sparse_categorical_accuracy', 0.59125), ('loss', 1.1825199), ('num_examples', 2400), ('num_batches', 123)]))])\n",
            "round 40, metrics=OrderedDict([('broadcast', ()), ('aggregation', OrderedDict([('mean_value', ()), ('mean_weight', ())])), ('train', OrderedDict([('sparse_categorical_accuracy', 0.67125), ('loss', 0.99437785), ('num_examples', 2400), ('num_batches', 123)]))])\n",
            "round 41, metrics=OrderedDict([('broadcast', ()), ('aggregation', OrderedDict([('mean_value', ()), ('mean_weight', ())])), ('train', OrderedDict([('sparse_categorical_accuracy', 0.6575), ('loss', 1.044931), ('num_examples', 2400), ('num_batches', 123)]))])\n",
            "round 42, metrics=OrderedDict([('broadcast', ()), ('aggregation', OrderedDict([('mean_value', ()), ('mean_weight', ())])), ('train', OrderedDict([('sparse_categorical_accuracy', 0.62875), ('loss', 1.0877149), ('num_examples', 2400), ('num_batches', 123)]))])\n",
            "round 43, metrics=OrderedDict([('broadcast', ()), ('aggregation', OrderedDict([('mean_value', ()), ('mean_weight', ())])), ('train', OrderedDict([('sparse_categorical_accuracy', 0.6820833), ('loss', 0.9898697), ('num_examples', 2400), ('num_batches', 123)]))])\n",
            "round 44, metrics=OrderedDict([('broadcast', ()), ('aggregation', OrderedDict([('mean_value', ()), ('mean_weight', ())])), ('train', OrderedDict([('sparse_categorical_accuracy', 0.6870833), ('loss', 0.96317494), ('num_examples', 2400), ('num_batches', 123)]))])\n",
            "round 45, metrics=OrderedDict([('broadcast', ()), ('aggregation', OrderedDict([('mean_value', ()), ('mean_weight', ())])), ('train', OrderedDict([('sparse_categorical_accuracy', 0.6816667), ('loss', 0.9890891), ('num_examples', 2400), ('num_batches', 123)]))])\n",
            "round 46, metrics=OrderedDict([('broadcast', ()), ('aggregation', OrderedDict([('mean_value', ()), ('mean_weight', ())])), ('train', OrderedDict([('sparse_categorical_accuracy', 0.66875), ('loss', 0.9794157), ('num_examples', 2400), ('num_batches', 123)]))])\n",
            "round 47, metrics=OrderedDict([('broadcast', ()), ('aggregation', OrderedDict([('mean_value', ()), ('mean_weight', ())])), ('train', OrderedDict([('sparse_categorical_accuracy', 0.7175), ('loss', 0.8769033), ('num_examples', 2400), ('num_batches', 123)]))])\n",
            "round 48, metrics=OrderedDict([('broadcast', ()), ('aggregation', OrderedDict([('mean_value', ()), ('mean_weight', ())])), ('train', OrderedDict([('sparse_categorical_accuracy', 0.71625), ('loss', 0.90002644), ('num_examples', 2400), ('num_batches', 123)]))])\n",
            "round 49, metrics=OrderedDict([('broadcast', ()), ('aggregation', OrderedDict([('mean_value', ()), ('mean_weight', ())])), ('train', OrderedDict([('sparse_categorical_accuracy', 0.72625), ('loss', 0.85665244), ('num_examples', 2400), ('num_batches', 123)]))])\n",
            "round 50, metrics=OrderedDict([('broadcast', ()), ('aggregation', OrderedDict([('mean_value', ()), ('mean_weight', ())])), ('train', OrderedDict([('sparse_categorical_accuracy', 0.73041666), ('loss', 0.81844985), ('num_examples', 2400), ('num_batches', 123)]))])\n",
            "round 51, metrics=OrderedDict([('broadcast', ()), ('aggregation', OrderedDict([('mean_value', ()), ('mean_weight', ())])), ('train', OrderedDict([('sparse_categorical_accuracy', 0.7375), ('loss', 0.8099389), ('num_examples', 2400), ('num_batches', 123)]))])\n",
            "round 52, metrics=OrderedDict([('broadcast', ()), ('aggregation', OrderedDict([('mean_value', ()), ('mean_weight', ())])), ('train', OrderedDict([('sparse_categorical_accuracy', 0.68875), ('loss', 0.92155844), ('num_examples', 2400), ('num_batches', 123)]))])\n",
            "round 53, metrics=OrderedDict([('broadcast', ()), ('aggregation', OrderedDict([('mean_value', ()), ('mean_weight', ())])), ('train', OrderedDict([('sparse_categorical_accuracy', 0.70625), ('loss', 0.8984273), ('num_examples', 2400), ('num_batches', 123)]))])\n",
            "round 54, metrics=OrderedDict([('broadcast', ()), ('aggregation', OrderedDict([('mean_value', ()), ('mean_weight', ())])), ('train', OrderedDict([('sparse_categorical_accuracy', 0.74791664), ('loss', 0.7855493), ('num_examples', 2400), ('num_batches', 123)]))])\n",
            "round 55, metrics=OrderedDict([('broadcast', ()), ('aggregation', OrderedDict([('mean_value', ()), ('mean_weight', ())])), ('train', OrderedDict([('sparse_categorical_accuracy', 0.77625), ('loss', 0.7252509), ('num_examples', 2400), ('num_batches', 123)]))])\n",
            "round 56, metrics=OrderedDict([('broadcast', ()), ('aggregation', OrderedDict([('mean_value', ()), ('mean_weight', ())])), ('train', OrderedDict([('sparse_categorical_accuracy', 0.76458335), ('loss', 0.7366753), ('num_examples', 2400), ('num_batches', 123)]))])\n",
            "round 57, metrics=OrderedDict([('broadcast', ()), ('aggregation', OrderedDict([('mean_value', ()), ('mean_weight', ())])), ('train', OrderedDict([('sparse_categorical_accuracy', 0.7366667), ('loss', 0.8198849), ('num_examples', 2400), ('num_batches', 123)]))])\n",
            "round 58, metrics=OrderedDict([('broadcast', ()), ('aggregation', OrderedDict([('mean_value', ()), ('mean_weight', ())])), ('train', OrderedDict([('sparse_categorical_accuracy', 0.7683333), ('loss', 0.7096839), ('num_examples', 2400), ('num_batches', 123)]))])\n",
            "round 59, metrics=OrderedDict([('broadcast', ()), ('aggregation', OrderedDict([('mean_value', ()), ('mean_weight', ())])), ('train', OrderedDict([('sparse_categorical_accuracy', 0.75333333), ('loss', 0.76413834), ('num_examples', 2400), ('num_batches', 123)]))])\n",
            "round 60, metrics=OrderedDict([('broadcast', ()), ('aggregation', OrderedDict([('mean_value', ()), ('mean_weight', ())])), ('train', OrderedDict([('sparse_categorical_accuracy', 0.81458336), ('loss', 0.5840126), ('num_examples', 2400), ('num_batches', 123)]))])\n",
            "round 61, metrics=OrderedDict([('broadcast', ()), ('aggregation', OrderedDict([('mean_value', ()), ('mean_weight', ())])), ('train', OrderedDict([('sparse_categorical_accuracy', 0.76416665), ('loss', 0.78359157), ('num_examples', 2400), ('num_batches', 123)]))])\n",
            "round 62, metrics=OrderedDict([('broadcast', ()), ('aggregation', OrderedDict([('mean_value', ()), ('mean_weight', ())])), ('train', OrderedDict([('sparse_categorical_accuracy', 0.77375), ('loss', 0.7085511), ('num_examples', 2400), ('num_batches', 123)]))])\n",
            "round 63, metrics=OrderedDict([('broadcast', ()), ('aggregation', OrderedDict([('mean_value', ()), ('mean_weight', ())])), ('train', OrderedDict([('sparse_categorical_accuracy', 0.8275), ('loss', 0.56022054), ('num_examples', 2400), ('num_batches', 123)]))])\n",
            "round 64, metrics=OrderedDict([('broadcast', ()), ('aggregation', OrderedDict([('mean_value', ()), ('mean_weight', ())])), ('train', OrderedDict([('sparse_categorical_accuracy', 0.80875), ('loss', 0.5832892), ('num_examples', 2400), ('num_batches', 123)]))])\n",
            "round 65, metrics=OrderedDict([('broadcast', ()), ('aggregation', OrderedDict([('mean_value', ()), ('mean_weight', ())])), ('train', OrderedDict([('sparse_categorical_accuracy', 0.81083333), ('loss', 0.58612585), ('num_examples', 2400), ('num_batches', 123)]))])\n",
            "round 66, metrics=OrderedDict([('broadcast', ()), ('aggregation', OrderedDict([('mean_value', ()), ('mean_weight', ())])), ('train', OrderedDict([('sparse_categorical_accuracy', 0.825), ('loss', 0.5810064), ('num_examples', 2400), ('num_batches', 123)]))])\n",
            "round 67, metrics=OrderedDict([('broadcast', ()), ('aggregation', OrderedDict([('mean_value', ()), ('mean_weight', ())])), ('train', OrderedDict([('sparse_categorical_accuracy', 0.835), ('loss', 0.52235466), ('num_examples', 2400), ('num_batches', 123)]))])\n",
            "round 68, metrics=OrderedDict([('broadcast', ()), ('aggregation', OrderedDict([('mean_value', ()), ('mean_weight', ())])), ('train', OrderedDict([('sparse_categorical_accuracy', 0.82375), ('loss', 0.5400363), ('num_examples', 2400), ('num_batches', 123)]))])\n",
            "round 69, metrics=OrderedDict([('broadcast', ()), ('aggregation', OrderedDict([('mean_value', ()), ('mean_weight', ())])), ('train', OrderedDict([('sparse_categorical_accuracy', 0.8075), ('loss', 0.65804344), ('num_examples', 2400), ('num_batches', 123)]))])\n",
            "round 70, metrics=OrderedDict([('broadcast', ()), ('aggregation', OrderedDict([('mean_value', ()), ('mean_weight', ())])), ('train', OrderedDict([('sparse_categorical_accuracy', 0.7925), ('loss', 0.63302207), ('num_examples', 2400), ('num_batches', 123)]))])\n",
            "round 71, metrics=OrderedDict([('broadcast', ()), ('aggregation', OrderedDict([('mean_value', ()), ('mean_weight', ())])), ('train', OrderedDict([('sparse_categorical_accuracy', 0.8233333), ('loss', 0.56698066), ('num_examples', 2400), ('num_batches', 123)]))])\n",
            "round 72, metrics=OrderedDict([('broadcast', ()), ('aggregation', OrderedDict([('mean_value', ()), ('mean_weight', ())])), ('train', OrderedDict([('sparse_categorical_accuracy', 0.82708335), ('loss', 0.57301533), ('num_examples', 2400), ('num_batches', 123)]))])\n",
            "round 73, metrics=OrderedDict([('broadcast', ()), ('aggregation', OrderedDict([('mean_value', ()), ('mean_weight', ())])), ('train', OrderedDict([('sparse_categorical_accuracy', 0.85375), ('loss', 0.46213835), ('num_examples', 2400), ('num_batches', 123)]))])\n",
            "round 74, metrics=OrderedDict([('broadcast', ()), ('aggregation', OrderedDict([('mean_value', ()), ('mean_weight', ())])), ('train', OrderedDict([('sparse_categorical_accuracy', 0.8175), ('loss', 0.5741369), ('num_examples', 2400), ('num_batches', 123)]))])\n",
            "round 75, metrics=OrderedDict([('broadcast', ()), ('aggregation', OrderedDict([('mean_value', ()), ('mean_weight', ())])), ('train', OrderedDict([('sparse_categorical_accuracy', 0.83625), ('loss', 0.50134474), ('num_examples', 2400), ('num_batches', 123)]))])\n",
            "round 76, metrics=OrderedDict([('broadcast', ()), ('aggregation', OrderedDict([('mean_value', ()), ('mean_weight', ())])), ('train', OrderedDict([('sparse_categorical_accuracy', 0.85583335), ('loss', 0.45441905), ('num_examples', 2400), ('num_batches', 123)]))])\n",
            "round 77, metrics=OrderedDict([('broadcast', ()), ('aggregation', OrderedDict([('mean_value', ()), ('mean_weight', ())])), ('train', OrderedDict([('sparse_categorical_accuracy', 0.8433333), ('loss', 0.48993042), ('num_examples', 2400), ('num_batches', 123)]))])\n",
            "round 78, metrics=OrderedDict([('broadcast', ()), ('aggregation', OrderedDict([('mean_value', ()), ('mean_weight', ())])), ('train', OrderedDict([('sparse_categorical_accuracy', 0.83916664), ('loss', 0.57106614), ('num_examples', 2400), ('num_batches', 123)]))])\n",
            "round 79, metrics=OrderedDict([('broadcast', ()), ('aggregation', OrderedDict([('mean_value', ()), ('mean_weight', ())])), ('train', OrderedDict([('sparse_categorical_accuracy', 0.855), ('loss', 0.45246145), ('num_examples', 2400), ('num_batches', 123)]))])\n",
            "round 80, metrics=OrderedDict([('broadcast', ()), ('aggregation', OrderedDict([('mean_value', ()), ('mean_weight', ())])), ('train', OrderedDict([('sparse_categorical_accuracy', 0.87125), ('loss', 0.4287115), ('num_examples', 2400), ('num_batches', 123)]))])\n",
            "round 81, metrics=OrderedDict([('broadcast', ()), ('aggregation', OrderedDict([('mean_value', ()), ('mean_weight', ())])), ('train', OrderedDict([('sparse_categorical_accuracy', 0.8925), ('loss', 0.35198498), ('num_examples', 2400), ('num_batches', 123)]))])\n",
            "round 82, metrics=OrderedDict([('broadcast', ()), ('aggregation', OrderedDict([('mean_value', ()), ('mean_weight', ())])), ('train', OrderedDict([('sparse_categorical_accuracy', 0.87375), ('loss', 0.4218176), ('num_examples', 2400), ('num_batches', 123)]))])\n",
            "round 83, metrics=OrderedDict([('broadcast', ()), ('aggregation', OrderedDict([('mean_value', ()), ('mean_weight', ())])), ('train', OrderedDict([('sparse_categorical_accuracy', 0.8375), ('loss', 0.5128513), ('num_examples', 2400), ('num_batches', 123)]))])\n",
            "round 84, metrics=OrderedDict([('broadcast', ()), ('aggregation', OrderedDict([('mean_value', ()), ('mean_weight', ())])), ('train', OrderedDict([('sparse_categorical_accuracy', 0.86291665), ('loss', 0.45500967), ('num_examples', 2400), ('num_batches', 123)]))])\n",
            "round 85, metrics=OrderedDict([('broadcast', ()), ('aggregation', OrderedDict([('mean_value', ()), ('mean_weight', ())])), ('train', OrderedDict([('sparse_categorical_accuracy', 0.8545833), ('loss', 0.48688883), ('num_examples', 2400), ('num_batches', 123)]))])\n",
            "round 86, metrics=OrderedDict([('broadcast', ()), ('aggregation', OrderedDict([('mean_value', ()), ('mean_weight', ())])), ('train', OrderedDict([('sparse_categorical_accuracy', 0.8804167), ('loss', 0.42441946), ('num_examples', 2400), ('num_batches', 123)]))])\n",
            "round 87, metrics=OrderedDict([('broadcast', ()), ('aggregation', OrderedDict([('mean_value', ()), ('mean_weight', ())])), ('train', OrderedDict([('sparse_categorical_accuracy', 0.8475), ('loss', 0.48014614), ('num_examples', 2400), ('num_batches', 123)]))])\n",
            "round 88, metrics=OrderedDict([('broadcast', ()), ('aggregation', OrderedDict([('mean_value', ()), ('mean_weight', ())])), ('train', OrderedDict([('sparse_categorical_accuracy', 0.87291664), ('loss', 0.42870337), ('num_examples', 2400), ('num_batches', 123)]))])\n",
            "round 89, metrics=OrderedDict([('broadcast', ()), ('aggregation', OrderedDict([('mean_value', ()), ('mean_weight', ())])), ('train', OrderedDict([('sparse_categorical_accuracy', 0.9058333), ('loss', 0.3314836), ('num_examples', 2400), ('num_batches', 123)]))])\n",
            "round 90, metrics=OrderedDict([('broadcast', ()), ('aggregation', OrderedDict([('mean_value', ()), ('mean_weight', ())])), ('train', OrderedDict([('sparse_categorical_accuracy', 0.85041666), ('loss', 0.4930546), ('num_examples', 2400), ('num_batches', 123)]))])\n",
            "round 91, metrics=OrderedDict([('broadcast', ()), ('aggregation', OrderedDict([('mean_value', ()), ('mean_weight', ())])), ('train', OrderedDict([('sparse_categorical_accuracy', 0.89458334), ('loss', 0.33536446), ('num_examples', 2400), ('num_batches', 123)]))])\n",
            "round 92, metrics=OrderedDict([('broadcast', ()), ('aggregation', OrderedDict([('mean_value', ()), ('mean_weight', ())])), ('train', OrderedDict([('sparse_categorical_accuracy', 0.88666666), ('loss', 0.36121604), ('num_examples', 2400), ('num_batches', 123)]))])\n",
            "round 93, metrics=OrderedDict([('broadcast', ()), ('aggregation', OrderedDict([('mean_value', ()), ('mean_weight', ())])), ('train', OrderedDict([('sparse_categorical_accuracy', 0.87875), ('loss', 0.40053573), ('num_examples', 2400), ('num_batches', 123)]))])\n",
            "round 94, metrics=OrderedDict([('broadcast', ()), ('aggregation', OrderedDict([('mean_value', ()), ('mean_weight', ())])), ('train', OrderedDict([('sparse_categorical_accuracy', 0.91541666), ('loss', 0.29726166), ('num_examples', 2400), ('num_batches', 123)]))])\n",
            "round 95, metrics=OrderedDict([('broadcast', ()), ('aggregation', OrderedDict([('mean_value', ()), ('mean_weight', ())])), ('train', OrderedDict([('sparse_categorical_accuracy', 0.90416664), ('loss', 0.29779345), ('num_examples', 2400), ('num_batches', 123)]))])\n",
            "round 96, metrics=OrderedDict([('broadcast', ()), ('aggregation', OrderedDict([('mean_value', ()), ('mean_weight', ())])), ('train', OrderedDict([('sparse_categorical_accuracy', 0.8375), ('loss', 0.55304855), ('num_examples', 2400), ('num_batches', 123)]))])\n",
            "round 97, metrics=OrderedDict([('broadcast', ()), ('aggregation', OrderedDict([('mean_value', ()), ('mean_weight', ())])), ('train', OrderedDict([('sparse_categorical_accuracy', 0.91291666), ('loss', 0.3197997), ('num_examples', 2400), ('num_batches', 123)]))])\n",
            "round 98, metrics=OrderedDict([('broadcast', ()), ('aggregation', OrderedDict([('mean_value', ()), ('mean_weight', ())])), ('train', OrderedDict([('sparse_categorical_accuracy', 0.8883333), ('loss', 0.3505535), ('num_examples', 2400), ('num_batches', 123)]))])\n",
            "round 99, metrics=OrderedDict([('broadcast', ()), ('aggregation', OrderedDict([('mean_value', ()), ('mean_weight', ())])), ('train', OrderedDict([('sparse_categorical_accuracy', 0.8983333), ('loss', 0.3464906), ('num_examples', 2400), ('num_batches', 123)]))])\n",
            "round 100, metrics=OrderedDict([('broadcast', ()), ('aggregation', OrderedDict([('mean_value', ()), ('mean_weight', ())])), ('train', OrderedDict([('sparse_categorical_accuracy', 0.92791665), ('loss', 0.26242507), ('num_examples', 2400), ('num_batches', 123)]))])\n",
            "round 101, metrics=OrderedDict([('broadcast', ()), ('aggregation', OrderedDict([('mean_value', ()), ('mean_weight', ())])), ('train', OrderedDict([('sparse_categorical_accuracy', 0.93583333), ('loss', 0.21739502), ('num_examples', 2400), ('num_batches', 123)]))])\n",
            "round 102, metrics=OrderedDict([('broadcast', ()), ('aggregation', OrderedDict([('mean_value', ()), ('mean_weight', ())])), ('train', OrderedDict([('sparse_categorical_accuracy', 0.90833336), ('loss', 0.30530488), ('num_examples', 2400), ('num_batches', 123)]))])\n",
            "round 103, metrics=OrderedDict([('broadcast', ()), ('aggregation', OrderedDict([('mean_value', ()), ('mean_weight', ())])), ('train', OrderedDict([('sparse_categorical_accuracy', 0.8983333), ('loss', 0.3357548), ('num_examples', 2400), ('num_batches', 123)]))])\n",
            "round 104, metrics=OrderedDict([('broadcast', ()), ('aggregation', OrderedDict([('mean_value', ()), ('mean_weight', ())])), ('train', OrderedDict([('sparse_categorical_accuracy', 0.89875), ('loss', 0.3595529), ('num_examples', 2400), ('num_batches', 123)]))])\n",
            "round 105, metrics=OrderedDict([('broadcast', ()), ('aggregation', OrderedDict([('mean_value', ()), ('mean_weight', ())])), ('train', OrderedDict([('sparse_categorical_accuracy', 0.9), ('loss', 0.32639837), ('num_examples', 2400), ('num_batches', 123)]))])\n",
            "round 106, metrics=OrderedDict([('broadcast', ()), ('aggregation', OrderedDict([('mean_value', ()), ('mean_weight', ())])), ('train', OrderedDict([('sparse_categorical_accuracy', 0.91125), ('loss', 0.285474), ('num_examples', 2400), ('num_batches', 123)]))])\n",
            "round 107, metrics=OrderedDict([('broadcast', ()), ('aggregation', OrderedDict([('mean_value', ()), ('mean_weight', ())])), ('train', OrderedDict([('sparse_categorical_accuracy', 0.88458335), ('loss', 0.3638877), ('num_examples', 2400), ('num_batches', 123)]))])\n",
            "round 108, metrics=OrderedDict([('broadcast', ()), ('aggregation', OrderedDict([('mean_value', ()), ('mean_weight', ())])), ('train', OrderedDict([('sparse_categorical_accuracy', 0.92541665), ('loss', 0.2571289), ('num_examples', 2400), ('num_batches', 123)]))])\n",
            "round 109, metrics=OrderedDict([('broadcast', ()), ('aggregation', OrderedDict([('mean_value', ()), ('mean_weight', ())])), ('train', OrderedDict([('sparse_categorical_accuracy', 0.92541665), ('loss', 0.24607569), ('num_examples', 2400), ('num_batches', 123)]))])\n",
            "round 110, metrics=OrderedDict([('broadcast', ()), ('aggregation', OrderedDict([('mean_value', ()), ('mean_weight', ())])), ('train', OrderedDict([('sparse_categorical_accuracy', 0.91875), ('loss', 0.28651544), ('num_examples', 2400), ('num_batches', 123)]))])\n",
            "round 111, metrics=OrderedDict([('broadcast', ()), ('aggregation', OrderedDict([('mean_value', ()), ('mean_weight', ())])), ('train', OrderedDict([('sparse_categorical_accuracy', 0.93291664), ('loss', 0.22036797), ('num_examples', 2400), ('num_batches', 123)]))])\n",
            "round 112, metrics=OrderedDict([('broadcast', ()), ('aggregation', OrderedDict([('mean_value', ()), ('mean_weight', ())])), ('train', OrderedDict([('sparse_categorical_accuracy', 0.91125), ('loss', 0.2859443), ('num_examples', 2400), ('num_batches', 123)]))])\n",
            "round 113, metrics=OrderedDict([('broadcast', ()), ('aggregation', OrderedDict([('mean_value', ()), ('mean_weight', ())])), ('train', OrderedDict([('sparse_categorical_accuracy', 0.91583335), ('loss', 0.2869455), ('num_examples', 2400), ('num_batches', 123)]))])\n",
            "round 114, metrics=OrderedDict([('broadcast', ()), ('aggregation', OrderedDict([('mean_value', ()), ('mean_weight', ())])), ('train', OrderedDict([('sparse_categorical_accuracy', 0.89125), ('loss', 0.34460455), ('num_examples', 2400), ('num_batches', 123)]))])\n",
            "round 115, metrics=OrderedDict([('broadcast', ()), ('aggregation', OrderedDict([('mean_value', ()), ('mean_weight', ())])), ('train', OrderedDict([('sparse_categorical_accuracy', 0.93125), ('loss', 0.23537056), ('num_examples', 2400), ('num_batches', 123)]))])\n",
            "round 116, metrics=OrderedDict([('broadcast', ()), ('aggregation', OrderedDict([('mean_value', ()), ('mean_weight', ())])), ('train', OrderedDict([('sparse_categorical_accuracy', 0.91583335), ('loss', 0.30856198), ('num_examples', 2400), ('num_batches', 123)]))])\n",
            "round 117, metrics=OrderedDict([('broadcast', ()), ('aggregation', OrderedDict([('mean_value', ()), ('mean_weight', ())])), ('train', OrderedDict([('sparse_categorical_accuracy', 0.94625), ('loss', 0.18760477), ('num_examples', 2400), ('num_batches', 123)]))])\n",
            "round 118, metrics=OrderedDict([('broadcast', ()), ('aggregation', OrderedDict([('mean_value', ()), ('mean_weight', ())])), ('train', OrderedDict([('sparse_categorical_accuracy', 0.9241667), ('loss', 0.2502314), ('num_examples', 2400), ('num_batches', 123)]))])\n",
            "round 119, metrics=OrderedDict([('broadcast', ()), ('aggregation', OrderedDict([('mean_value', ()), ('mean_weight', ())])), ('train', OrderedDict([('sparse_categorical_accuracy', 0.9075), ('loss', 0.3314442), ('num_examples', 2400), ('num_batches', 123)]))])\n",
            "round 120, metrics=OrderedDict([('broadcast', ()), ('aggregation', OrderedDict([('mean_value', ()), ('mean_weight', ())])), ('train', OrderedDict([('sparse_categorical_accuracy', 0.93), ('loss', 0.23693128), ('num_examples', 2400), ('num_batches', 123)]))])\n",
            "round 121, metrics=OrderedDict([('broadcast', ()), ('aggregation', OrderedDict([('mean_value', ()), ('mean_weight', ())])), ('train', OrderedDict([('sparse_categorical_accuracy', 0.8879167), ('loss', 0.40159312), ('num_examples', 2400), ('num_batches', 123)]))])\n",
            "round 122, metrics=OrderedDict([('broadcast', ()), ('aggregation', OrderedDict([('mean_value', ()), ('mean_weight', ())])), ('train', OrderedDict([('sparse_categorical_accuracy', 0.9479167), ('loss', 0.17565545), ('num_examples', 2400), ('num_batches', 123)]))])\n",
            "round 123, metrics=OrderedDict([('broadcast', ()), ('aggregation', OrderedDict([('mean_value', ()), ('mean_weight', ())])), ('train', OrderedDict([('sparse_categorical_accuracy', 0.9141667), ('loss', 0.28013977), ('num_examples', 2400), ('num_batches', 123)]))])\n",
            "round 124, metrics=OrderedDict([('broadcast', ()), ('aggregation', OrderedDict([('mean_value', ()), ('mean_weight', ())])), ('train', OrderedDict([('sparse_categorical_accuracy', 0.94416666), ('loss', 0.1899599), ('num_examples', 2400), ('num_batches', 123)]))])\n",
            "round 125, metrics=OrderedDict([('broadcast', ()), ('aggregation', OrderedDict([('mean_value', ()), ('mean_weight', ())])), ('train', OrderedDict([('sparse_categorical_accuracy', 0.9475), ('loss', 0.20299673), ('num_examples', 2400), ('num_batches', 123)]))])\n",
            "round 126, metrics=OrderedDict([('broadcast', ()), ('aggregation', OrderedDict([('mean_value', ()), ('mean_weight', ())])), ('train', OrderedDict([('sparse_categorical_accuracy', 0.94166666), ('loss', 0.18653145), ('num_examples', 2400), ('num_batches', 123)]))])\n",
            "round 127, metrics=OrderedDict([('broadcast', ()), ('aggregation', OrderedDict([('mean_value', ()), ('mean_weight', ())])), ('train', OrderedDict([('sparse_categorical_accuracy', 0.94875), ('loss', 0.17213571), ('num_examples', 2400), ('num_batches', 123)]))])\n",
            "round 128, metrics=OrderedDict([('broadcast', ()), ('aggregation', OrderedDict([('mean_value', ()), ('mean_weight', ())])), ('train', OrderedDict([('sparse_categorical_accuracy', 0.9533333), ('loss', 0.16692065), ('num_examples', 2400), ('num_batches', 123)]))])\n",
            "round 129, metrics=OrderedDict([('broadcast', ()), ('aggregation', OrderedDict([('mean_value', ()), ('mean_weight', ())])), ('train', OrderedDict([('sparse_categorical_accuracy', 0.8879167), ('loss', 0.4205148), ('num_examples', 2400), ('num_batches', 123)]))])\n",
            "round 130, metrics=OrderedDict([('broadcast', ()), ('aggregation', OrderedDict([('mean_value', ()), ('mean_weight', ())])), ('train', OrderedDict([('sparse_categorical_accuracy', 0.92041665), ('loss', 0.2951473), ('num_examples', 2400), ('num_batches', 123)]))])\n",
            "round 131, metrics=OrderedDict([('broadcast', ()), ('aggregation', OrderedDict([('mean_value', ()), ('mean_weight', ())])), ('train', OrderedDict([('sparse_categorical_accuracy', 0.94208336), ('loss', 0.20127282), ('num_examples', 2400), ('num_batches', 123)]))])\n",
            "round 132, metrics=OrderedDict([('broadcast', ()), ('aggregation', OrderedDict([('mean_value', ()), ('mean_weight', ())])), ('train', OrderedDict([('sparse_categorical_accuracy', 0.93041664), ('loss', 0.24721257), ('num_examples', 2400), ('num_batches', 123)]))])\n",
            "round 133, metrics=OrderedDict([('broadcast', ()), ('aggregation', OrderedDict([('mean_value', ()), ('mean_weight', ())])), ('train', OrderedDict([('sparse_categorical_accuracy', 0.955), ('loss', 0.1717651), ('num_examples', 2400), ('num_batches', 123)]))])\n",
            "round 134, metrics=OrderedDict([('broadcast', ()), ('aggregation', OrderedDict([('mean_value', ()), ('mean_weight', ())])), ('train', OrderedDict([('sparse_categorical_accuracy', 0.9483333), ('loss', 0.2032186), ('num_examples', 2400), ('num_batches', 123)]))])\n",
            "round 135, metrics=OrderedDict([('broadcast', ()), ('aggregation', OrderedDict([('mean_value', ()), ('mean_weight', ())])), ('train', OrderedDict([('sparse_categorical_accuracy', 0.93916667), ('loss', 0.22676104), ('num_examples', 2400), ('num_batches', 123)]))])\n",
            "round 136, metrics=OrderedDict([('broadcast', ()), ('aggregation', OrderedDict([('mean_value', ()), ('mean_weight', ())])), ('train', OrderedDict([('sparse_categorical_accuracy', 0.9433333), ('loss', 0.18601274), ('num_examples', 2400), ('num_batches', 123)]))])\n",
            "round 137, metrics=OrderedDict([('broadcast', ()), ('aggregation', OrderedDict([('mean_value', ()), ('mean_weight', ())])), ('train', OrderedDict([('sparse_categorical_accuracy', 0.95916665), ('loss', 0.14587186), ('num_examples', 2400), ('num_batches', 123)]))])\n",
            "round 138, metrics=OrderedDict([('broadcast', ()), ('aggregation', OrderedDict([('mean_value', ()), ('mean_weight', ())])), ('train', OrderedDict([('sparse_categorical_accuracy', 0.93041664), ('loss', 0.24621107), ('num_examples', 2400), ('num_batches', 123)]))])\n",
            "round 139, metrics=OrderedDict([('broadcast', ()), ('aggregation', OrderedDict([('mean_value', ()), ('mean_weight', ())])), ('train', OrderedDict([('sparse_categorical_accuracy', 0.95666665), ('loss', 0.1578079), ('num_examples', 2400), ('num_batches', 123)]))])\n",
            "round 140, metrics=OrderedDict([('broadcast', ()), ('aggregation', OrderedDict([('mean_value', ()), ('mean_weight', ())])), ('train', OrderedDict([('sparse_categorical_accuracy', 0.94375), ('loss', 0.21847099), ('num_examples', 2400), ('num_batches', 123)]))])\n",
            "round 141, metrics=OrderedDict([('broadcast', ()), ('aggregation', OrderedDict([('mean_value', ()), ('mean_weight', ())])), ('train', OrderedDict([('sparse_categorical_accuracy', 0.93833333), ('loss', 0.19931355), ('num_examples', 2400), ('num_batches', 123)]))])\n",
            "round 142, metrics=OrderedDict([('broadcast', ()), ('aggregation', OrderedDict([('mean_value', ()), ('mean_weight', ())])), ('train', OrderedDict([('sparse_categorical_accuracy', 0.9483333), ('loss', 0.17420167), ('num_examples', 2400), ('num_batches', 123)]))])\n",
            "round 143, metrics=OrderedDict([('broadcast', ()), ('aggregation', OrderedDict([('mean_value', ()), ('mean_weight', ())])), ('train', OrderedDict([('sparse_categorical_accuracy', 0.9458333), ('loss', 0.17572907), ('num_examples', 2400), ('num_batches', 123)]))])\n",
            "round 144, metrics=OrderedDict([('broadcast', ()), ('aggregation', OrderedDict([('mean_value', ()), ('mean_weight', ())])), ('train', OrderedDict([('sparse_categorical_accuracy', 0.9558333), ('loss', 0.16079049), ('num_examples', 2400), ('num_batches', 123)]))])\n",
            "round 145, metrics=OrderedDict([('broadcast', ()), ('aggregation', OrderedDict([('mean_value', ()), ('mean_weight', ())])), ('train', OrderedDict([('sparse_categorical_accuracy', 0.93625), ('loss', 0.2439384), ('num_examples', 2400), ('num_batches', 123)]))])\n",
            "round 146, metrics=OrderedDict([('broadcast', ()), ('aggregation', OrderedDict([('mean_value', ()), ('mean_weight', ())])), ('train', OrderedDict([('sparse_categorical_accuracy', 0.95125), ('loss', 0.19192746), ('num_examples', 2400), ('num_batches', 123)]))])\n",
            "round 147, metrics=OrderedDict([('broadcast', ()), ('aggregation', OrderedDict([('mean_value', ()), ('mean_weight', ())])), ('train', OrderedDict([('sparse_categorical_accuracy', 0.96708333), ('loss', 0.12880607), ('num_examples', 2400), ('num_batches', 123)]))])\n",
            "round 148, metrics=OrderedDict([('broadcast', ()), ('aggregation', OrderedDict([('mean_value', ()), ('mean_weight', ())])), ('train', OrderedDict([('sparse_categorical_accuracy', 0.9633333), ('loss', 0.13700381), ('num_examples', 2400), ('num_batches', 123)]))])\n",
            "round 149, metrics=OrderedDict([('broadcast', ()), ('aggregation', OrderedDict([('mean_value', ()), ('mean_weight', ())])), ('train', OrderedDict([('sparse_categorical_accuracy', 0.9066667), ('loss', 0.32942903), ('num_examples', 2400), ('num_batches', 123)]))])\n",
            "round 150, metrics=OrderedDict([('broadcast', ()), ('aggregation', OrderedDict([('mean_value', ()), ('mean_weight', ())])), ('train', OrderedDict([('sparse_categorical_accuracy', 0.96666664), ('loss', 0.1244286), ('num_examples', 2400), ('num_batches', 123)]))])\n",
            "round 151, metrics=OrderedDict([('broadcast', ()), ('aggregation', OrderedDict([('mean_value', ()), ('mean_weight', ())])), ('train', OrderedDict([('sparse_categorical_accuracy', 0.92625), ('loss', 0.2687149), ('num_examples', 2400), ('num_batches', 123)]))])\n",
            "round 152, metrics=OrderedDict([('broadcast', ()), ('aggregation', OrderedDict([('mean_value', ()), ('mean_weight', ())])), ('train', OrderedDict([('sparse_categorical_accuracy', 0.9791667), ('loss', 0.09793062), ('num_examples', 2400), ('num_batches', 123)]))])\n",
            "round 153, metrics=OrderedDict([('broadcast', ()), ('aggregation', OrderedDict([('mean_value', ()), ('mean_weight', ())])), ('train', OrderedDict([('sparse_categorical_accuracy', 0.9216667), ('loss', 0.28210667), ('num_examples', 2400), ('num_batches', 123)]))])\n",
            "round 154, metrics=OrderedDict([('broadcast', ()), ('aggregation', OrderedDict([('mean_value', ()), ('mean_weight', ())])), ('train', OrderedDict([('sparse_categorical_accuracy', 0.9675), ('loss', 0.11803798), ('num_examples', 2400), ('num_batches', 123)]))])\n",
            "round 155, metrics=OrderedDict([('broadcast', ()), ('aggregation', OrderedDict([('mean_value', ()), ('mean_weight', ())])), ('train', OrderedDict([('sparse_categorical_accuracy', 0.96625), ('loss', 0.12262022), ('num_examples', 2400), ('num_batches', 123)]))])\n",
            "round 156, metrics=OrderedDict([('broadcast', ()), ('aggregation', OrderedDict([('mean_value', ()), ('mean_weight', ())])), ('train', OrderedDict([('sparse_categorical_accuracy', 0.9175), ('loss', 0.32549796), ('num_examples', 2400), ('num_batches', 123)]))])\n",
            "round 157, metrics=OrderedDict([('broadcast', ()), ('aggregation', OrderedDict([('mean_value', ()), ('mean_weight', ())])), ('train', OrderedDict([('sparse_categorical_accuracy', 0.9716667), ('loss', 0.11624939), ('num_examples', 2400), ('num_batches', 123)]))])\n",
            "round 158, metrics=OrderedDict([('broadcast', ()), ('aggregation', OrderedDict([('mean_value', ()), ('mean_weight', ())])), ('train', OrderedDict([('sparse_categorical_accuracy', 0.945), ('loss', 0.19976656), ('num_examples', 2400), ('num_batches', 123)]))])\n",
            "round 159, metrics=OrderedDict([('broadcast', ()), ('aggregation', OrderedDict([('mean_value', ()), ('mean_weight', ())])), ('train', OrderedDict([('sparse_categorical_accuracy', 0.9291667), ('loss', 0.25479573), ('num_examples', 2400), ('num_batches', 123)]))])\n",
            "round 160, metrics=OrderedDict([('broadcast', ()), ('aggregation', OrderedDict([('mean_value', ()), ('mean_weight', ())])), ('train', OrderedDict([('sparse_categorical_accuracy', 0.9604167), ('loss', 0.14340882), ('num_examples', 2400), ('num_batches', 123)]))])\n",
            "round 161, metrics=OrderedDict([('broadcast', ()), ('aggregation', OrderedDict([('mean_value', ()), ('mean_weight', ())])), ('train', OrderedDict([('sparse_categorical_accuracy', 0.9345833), ('loss', 0.25504455), ('num_examples', 2400), ('num_batches', 123)]))])\n",
            "round 162, metrics=OrderedDict([('broadcast', ()), ('aggregation', OrderedDict([('mean_value', ()), ('mean_weight', ())])), ('train', OrderedDict([('sparse_categorical_accuracy', 0.97125), ('loss', 0.10551754), ('num_examples', 2400), ('num_batches', 123)]))])\n",
            "round 163, metrics=OrderedDict([('broadcast', ()), ('aggregation', OrderedDict([('mean_value', ()), ('mean_weight', ())])), ('train', OrderedDict([('sparse_categorical_accuracy', 0.9579167), ('loss', 0.15531968), ('num_examples', 2400), ('num_batches', 123)]))])\n",
            "round 164, metrics=OrderedDict([('broadcast', ()), ('aggregation', OrderedDict([('mean_value', ()), ('mean_weight', ())])), ('train', OrderedDict([('sparse_categorical_accuracy', 0.96958333), ('loss', 0.11765622), ('num_examples', 2400), ('num_batches', 123)]))])\n",
            "round 165, metrics=OrderedDict([('broadcast', ()), ('aggregation', OrderedDict([('mean_value', ()), ('mean_weight', ())])), ('train', OrderedDict([('sparse_categorical_accuracy', 0.97208333), ('loss', 0.0953948), ('num_examples', 2400), ('num_batches', 123)]))])\n",
            "round 166, metrics=OrderedDict([('broadcast', ()), ('aggregation', OrderedDict([('mean_value', ()), ('mean_weight', ())])), ('train', OrderedDict([('sparse_categorical_accuracy', 0.96875), ('loss', 0.10751381), ('num_examples', 2400), ('num_batches', 123)]))])\n",
            "round 167, metrics=OrderedDict([('broadcast', ()), ('aggregation', OrderedDict([('mean_value', ()), ('mean_weight', ())])), ('train', OrderedDict([('sparse_categorical_accuracy', 0.9608333), ('loss', 0.13461007), ('num_examples', 2400), ('num_batches', 123)]))])\n",
            "round 168, metrics=OrderedDict([('broadcast', ()), ('aggregation', OrderedDict([('mean_value', ()), ('mean_weight', ())])), ('train', OrderedDict([('sparse_categorical_accuracy', 0.96958333), ('loss', 0.10751211), ('num_examples', 2400), ('num_batches', 123)]))])\n",
            "round 169, metrics=OrderedDict([('broadcast', ()), ('aggregation', OrderedDict([('mean_value', ()), ('mean_weight', ())])), ('train', OrderedDict([('sparse_categorical_accuracy', 0.97041667), ('loss', 0.10303767), ('num_examples', 2400), ('num_batches', 123)]))])\n",
            "round 170, metrics=OrderedDict([('broadcast', ()), ('aggregation', OrderedDict([('mean_value', ()), ('mean_weight', ())])), ('train', OrderedDict([('sparse_categorical_accuracy', 0.97625), ('loss', 0.08503417), ('num_examples', 2400), ('num_batches', 123)]))])\n",
            "round 171, metrics=OrderedDict([('broadcast', ()), ('aggregation', OrderedDict([('mean_value', ()), ('mean_weight', ())])), ('train', OrderedDict([('sparse_categorical_accuracy', 0.9579167), ('loss', 0.13277942), ('num_examples', 2400), ('num_batches', 123)]))])\n",
            "round 172, metrics=OrderedDict([('broadcast', ()), ('aggregation', OrderedDict([('mean_value', ()), ('mean_weight', ())])), ('train', OrderedDict([('sparse_categorical_accuracy', 0.97833335), ('loss', 0.09096096), ('num_examples', 2400), ('num_batches', 123)]))])\n",
            "round 173, metrics=OrderedDict([('broadcast', ()), ('aggregation', OrderedDict([('mean_value', ()), ('mean_weight', ())])), ('train', OrderedDict([('sparse_categorical_accuracy', 0.96625), ('loss', 0.1206199), ('num_examples', 2400), ('num_batches', 123)]))])\n",
            "round 174, metrics=OrderedDict([('broadcast', ()), ('aggregation', OrderedDict([('mean_value', ()), ('mean_weight', ())])), ('train', OrderedDict([('sparse_categorical_accuracy', 0.9625), ('loss', 0.13605872), ('num_examples', 2400), ('num_batches', 123)]))])\n",
            "round 175, metrics=OrderedDict([('broadcast', ()), ('aggregation', OrderedDict([('mean_value', ()), ('mean_weight', ())])), ('train', OrderedDict([('sparse_categorical_accuracy', 0.9691667), ('loss', 0.10402004), ('num_examples', 2400), ('num_batches', 123)]))])\n",
            "round 176, metrics=OrderedDict([('broadcast', ()), ('aggregation', OrderedDict([('mean_value', ()), ('mean_weight', ())])), ('train', OrderedDict([('sparse_categorical_accuracy', 0.94875), ('loss', 0.17188846), ('num_examples', 2400), ('num_batches', 123)]))])\n",
            "round 177, metrics=OrderedDict([('broadcast', ()), ('aggregation', OrderedDict([('mean_value', ()), ('mean_weight', ())])), ('train', OrderedDict([('sparse_categorical_accuracy', 0.9766667), ('loss', 0.09623623), ('num_examples', 2400), ('num_batches', 123)]))])\n",
            "round 178, metrics=OrderedDict([('broadcast', ()), ('aggregation', OrderedDict([('mean_value', ()), ('mean_weight', ())])), ('train', OrderedDict([('sparse_categorical_accuracy', 0.90958333), ('loss', 0.37216726), ('num_examples', 2400), ('num_batches', 123)]))])\n",
            "round 179, metrics=OrderedDict([('broadcast', ()), ('aggregation', OrderedDict([('mean_value', ()), ('mean_weight', ())])), ('train', OrderedDict([('sparse_categorical_accuracy', 0.9579167), ('loss', 0.15891778), ('num_examples', 2400), ('num_batches', 123)]))])\n",
            "round 180, metrics=OrderedDict([('broadcast', ()), ('aggregation', OrderedDict([('mean_value', ()), ('mean_weight', ())])), ('train', OrderedDict([('sparse_categorical_accuracy', 0.9820833), ('loss', 0.070524864), ('num_examples', 2400), ('num_batches', 123)]))])\n",
            "round 181, metrics=OrderedDict([('broadcast', ()), ('aggregation', OrderedDict([('mean_value', ()), ('mean_weight', ())])), ('train', OrderedDict([('sparse_categorical_accuracy', 0.9745833), ('loss', 0.08606928), ('num_examples', 2400), ('num_batches', 123)]))])\n",
            "round 182, metrics=OrderedDict([('broadcast', ()), ('aggregation', OrderedDict([('mean_value', ()), ('mean_weight', ())])), ('train', OrderedDict([('sparse_categorical_accuracy', 0.97541666), ('loss', 0.09394139), ('num_examples', 2400), ('num_batches', 123)]))])\n",
            "round 183, metrics=OrderedDict([('broadcast', ()), ('aggregation', OrderedDict([('mean_value', ()), ('mean_weight', ())])), ('train', OrderedDict([('sparse_categorical_accuracy', 0.9583333), ('loss', 0.12282816), ('num_examples', 2400), ('num_batches', 123)]))])\n",
            "round 184, metrics=OrderedDict([('broadcast', ()), ('aggregation', OrderedDict([('mean_value', ()), ('mean_weight', ())])), ('train', OrderedDict([('sparse_categorical_accuracy', 0.90791667), ('loss', 0.33842513), ('num_examples', 2400), ('num_batches', 123)]))])\n",
            "round 185, metrics=OrderedDict([('broadcast', ()), ('aggregation', OrderedDict([('mean_value', ()), ('mean_weight', ())])), ('train', OrderedDict([('sparse_categorical_accuracy', 0.9795833), ('loss', 0.08705997), ('num_examples', 2400), ('num_batches', 123)]))])\n",
            "round 186, metrics=OrderedDict([('broadcast', ()), ('aggregation', OrderedDict([('mean_value', ()), ('mean_weight', ())])), ('train', OrderedDict([('sparse_categorical_accuracy', 0.97583336), ('loss', 0.11048657), ('num_examples', 2400), ('num_batches', 123)]))])\n",
            "round 187, metrics=OrderedDict([('broadcast', ()), ('aggregation', OrderedDict([('mean_value', ()), ('mean_weight', ())])), ('train', OrderedDict([('sparse_categorical_accuracy', 0.97833335), ('loss', 0.09006821), ('num_examples', 2400), ('num_batches', 123)]))])\n",
            "round 188, metrics=OrderedDict([('broadcast', ()), ('aggregation', OrderedDict([('mean_value', ()), ('mean_weight', ())])), ('train', OrderedDict([('sparse_categorical_accuracy', 0.93583333), ('loss', 0.22126256), ('num_examples', 2400), ('num_batches', 123)]))])\n",
            "round 189, metrics=OrderedDict([('broadcast', ()), ('aggregation', OrderedDict([('mean_value', ()), ('mean_weight', ())])), ('train', OrderedDict([('sparse_categorical_accuracy', 0.93375), ('loss', 0.24148928), ('num_examples', 2400), ('num_batches', 123)]))])\n",
            "round 190, metrics=OrderedDict([('broadcast', ()), ('aggregation', OrderedDict([('mean_value', ()), ('mean_weight', ())])), ('train', OrderedDict([('sparse_categorical_accuracy', 0.9770833), ('loss', 0.08441369), ('num_examples', 2400), ('num_batches', 123)]))])\n",
            "round 191, metrics=OrderedDict([('broadcast', ()), ('aggregation', OrderedDict([('mean_value', ()), ('mean_weight', ())])), ('train', OrderedDict([('sparse_categorical_accuracy', 0.9775), ('loss', 0.081490815), ('num_examples', 2400), ('num_batches', 123)]))])\n",
            "round 192, metrics=OrderedDict([('broadcast', ()), ('aggregation', OrderedDict([('mean_value', ()), ('mean_weight', ())])), ('train', OrderedDict([('sparse_categorical_accuracy', 0.9725), ('loss', 0.10927765), ('num_examples', 2400), ('num_batches', 123)]))])\n",
            "round 193, metrics=OrderedDict([('broadcast', ()), ('aggregation', OrderedDict([('mean_value', ()), ('mean_weight', ())])), ('train', OrderedDict([('sparse_categorical_accuracy', 0.98333335), ('loss', 0.06889764), ('num_examples', 2400), ('num_batches', 123)]))])\n",
            "round 194, metrics=OrderedDict([('broadcast', ()), ('aggregation', OrderedDict([('mean_value', ()), ('mean_weight', ())])), ('train', OrderedDict([('sparse_categorical_accuracy', 0.97375), ('loss', 0.090160705), ('num_examples', 2400), ('num_batches', 123)]))])\n",
            "round 195, metrics=OrderedDict([('broadcast', ()), ('aggregation', OrderedDict([('mean_value', ()), ('mean_weight', ())])), ('train', OrderedDict([('sparse_categorical_accuracy', 0.98125), ('loss', 0.072768755), ('num_examples', 2400), ('num_batches', 123)]))])\n",
            "round 196, metrics=OrderedDict([('broadcast', ()), ('aggregation', OrderedDict([('mean_value', ()), ('mean_weight', ())])), ('train', OrderedDict([('sparse_categorical_accuracy', 0.96625), ('loss', 0.12098899), ('num_examples', 2400), ('num_batches', 123)]))])\n",
            "round 197, metrics=OrderedDict([('broadcast', ()), ('aggregation', OrderedDict([('mean_value', ()), ('mean_weight', ())])), ('train', OrderedDict([('sparse_categorical_accuracy', 0.93875), ('loss', 0.2099976), ('num_examples', 2400), ('num_batches', 123)]))])\n",
            "round 198, metrics=OrderedDict([('broadcast', ()), ('aggregation', OrderedDict([('mean_value', ()), ('mean_weight', ())])), ('train', OrderedDict([('sparse_categorical_accuracy', 0.98541665), ('loss', 0.061682604), ('num_examples', 2400), ('num_batches', 123)]))])\n",
            "round 199, metrics=OrderedDict([('broadcast', ()), ('aggregation', OrderedDict([('mean_value', ()), ('mean_weight', ())])), ('train', OrderedDict([('sparse_categorical_accuracy', 0.98583335), ('loss', 0.064228505), ('num_examples', 2400), ('num_batches', 123)]))])\n"
          ]
        }
      ],
      "source": [
        "NUM_ROUNDS = 200\n",
        "train_accuracy = []\n",
        "test_accuracy = []\n",
        "train_loss=[]\n",
        "test_loss=[]\n",
        "\n",
        "for round_num in range(1, NUM_ROUNDS):\n",
        "  state, metrics = iterative_process.next(state, federated_train_data)\n",
        "\n",
        "  tuple_list = list(metrics.items())\n",
        "  temp = tuple_list[2][1]\n",
        "  temp1= list(temp.items())\n",
        "  train_accuracy.append(temp1[0][1])\n",
        "  train_loss.append(temp1[1][1])\n",
        "\n",
        "  print('round {:2d}, metrics={}'.format(round_num, metrics))\n",
        "\n"
      ]
    },
    {
      "cell_type": "code",
      "execution_count": null,
      "metadata": {
        "colab": {
          "base_uri": "https://localhost:8080/",
          "height": 294
        },
        "id": "NcgH2_lBbqhy",
        "outputId": "9630959c-6b24-4bf3-de42-19282474f12b"
      },
      "outputs": [
        {
          "data": {
            "image/png": "[encoded data removed]",
            "text/plain": [
              "<Figure size 432x288 with 1 Axes>"
            ]
          },
          "metadata": {},
          "output_type": "display_data"
        }
      ],
      "source": [
        "train_accuracy_plot = train_accuracy\n",
        "test_accuracy_plot = test_accuracy\n",
        "\n",
        "epochs = range(1,200)\n",
        "\n",
        "plt.plot(epochs, train_accuracy_plot, 'b', label='Training Accuracy')\n",
        "#plt.plot(epochs, test_accuracy_plot, 'b', label='Testing Accuracy')\n",
        "plt.title('Training Accuracy vs Epoch')\n",
        "plt.xlabel('Epochs')\n",
        "plt.ylabel('Training Accuracy')\n",
        "plt.legend()\n",
        "plt.show()"
      ]
    },
    {
      "cell_type": "code",
      "execution_count": null,
      "metadata": {
        "colab": {
          "base_uri": "https://localhost:8080/",
          "height": 294
        },
        "id": "UB8UVQ3VrjWX",
        "outputId": "ff798231-576f-42c6-ed67-5d4c993ab38f"
      },
      "outputs": [
        {
          "data": {
            "image/png": "[encoded data removed]",
            "text/plain": [
              "<Figure size 432x288 with 1 Axes>"
            ]
          },
          "metadata": {},
          "output_type": "display_data"
        }
      ],
      "source": [
        "train_loss_plot = train_loss\n",
        "test_loss_plot = test_loss\n",
        "\n",
        "epochs = range(1,200)\n",
        "\n",
        "plt.plot(epochs, train_loss_plot, 'b', label='Training Loss')\n",
        "#plt.plot(epochs, test_loss_plot, 'b', label='Testing Loss')\n",
        "plt.title('Training Loss vs Epoch')\n",
        "plt.xlabel('Epochs')\n",
        "plt.ylabel('Training Loss')\n",
        "plt.legend()\n",
        "plt.show()"
      ]
    },
    {
      "cell_type": "markdown",
      "metadata": {
        "id": "UvZ-TCG1dy5s"
      },
      "source": [
        "# Eval"
      ]
    },
    {
      "cell_type": "code",
      "execution_count": null,
      "metadata": {
        "id": "06Qt6hNPdmke"
      },
      "outputs": [],
      "source": [
        "evaluation = tff.learning.build_federated_evaluation(model_fn)"
      ]
    },
    {
      "cell_type": "code",
      "execution_count": null,
      "metadata": {
        "id": "v1rq3EiUeNvZ"
      },
      "outputs": [],
      "source": [
        "train_metrics = evaluation(state.model, federated_train_data)"
      ]
    },
    {
      "cell_type": "code",
      "execution_count": null,
      "metadata": {
        "colab": {
          "base_uri": "https://localhost:8080/",
          "height": 36
        },
        "id": "zEaoAVvgeRyr",
        "outputId": "5e09f477-1339-4dbd-ba53-fd5bacac9c90"
      },
      "outputs": [
        {
          "data": {
            "application/vnd.google.colaboratory.intrinsic+json": {
              "type": "string"
            },
            "text/plain": [
              "\"OrderedDict([('eval', OrderedDict([('sparse_categorical_accuracy', 0.97083336), ('loss', 0.07591665), ('num_examples', 2400), ('num_batches', 123)]))])\""
            ]
          },
          "execution_count": 21,
          "metadata": {},
          "output_type": "execute_result"
        }
      ],
      "source": [
        "str(train_metrics)"
      ]
    },
    {
      "cell_type": "code",
      "execution_count": null,
      "metadata": {
        "colab": {
          "base_uri": "https://localhost:8080/"
        },
        "id": "KB0jUXooeTQx",
        "outputId": "a90c8f0d-8f9e-4ffa-b5cf-cab474eefb37"
      },
      "outputs": [
        {
          "data": {
            "text/plain": [
              "(5,\n",
              " <PrefetchDataset element_spec=OrderedDict([('x', TensorSpec(shape=(None, 784), dtype=tf.float32, name=None)), ('y', TensorSpec(shape=(None, 1), dtype=tf.int32, name=None))])>)"
            ]
          },
          "execution_count": 22,
          "metadata": {},
          "output_type": "execute_result"
        }
      ],
      "source": [
        "federated_test_data = make_federated_data(emnist_test, sample_clients)\n",
        "\n",
        "len(federated_test_data), federated_test_data[0]"
      ]
    },
    {
      "cell_type": "code",
      "execution_count": null,
      "metadata": {
        "id": "frvwg32ZeZ-q"
      },
      "outputs": [],
      "source": [
        "test_metrics = evaluation(state.model, federated_test_data)"
      ]
    },
    {
      "cell_type": "code",
      "execution_count": null,
      "metadata": {
        "colab": {
          "base_uri": "https://localhost:8080/",
          "height": 36
        },
        "id": "FNYUQ4PKegmu",
        "outputId": "18b804a9-dbe4-46e8-b76d-1adca6fde1c1"
      },
      "outputs": [
        {
          "data": {
            "application/vnd.google.colaboratory.intrinsic+json": {
              "type": "string"
            },
            "text/plain": [
              "\"OrderedDict([('eval', OrderedDict([('sparse_categorical_accuracy', 0.9122807), ('loss', 0.46260446), ('num_examples', 285), ('num_batches', 16)]))])\""
            ]
          },
          "execution_count": 24,
          "metadata": {},
          "output_type": "execute_result"
        }
      ],
      "source": [
        "str(test_metrics)"
      ]
    },
    {
      "cell_type": "code",
      "execution_count": null,
      "metadata": {
        "id": "mwUrxJcepTzh"
      },
      "outputs": [],
      "source": [
        ""
      ]
    },
    {
      "cell_type": "markdown",
      "metadata": {
        "id": "5QD05_P4HBxt"
      },
      "source": [
        "# experimentations\n"
      ]
    },
    {
      "cell_type": "code",
      "execution_count": null,
      "metadata": {
        "colab": {
          "base_uri": "https://localhost:8080/"
        },
        "id": "7VqA6qwCHDBT",
        "outputId": "c2793cfb-0032-469a-bc67-f835235974b3"
      },
      "outputs": [
        {
          "output_type": "stream",
          "name": "stdout",
          "text": [
            "Number of clients:  2\n",
            "--->round  5, metrics=OrderedDict([('broadcast', ()), ('aggregation', OrderedDict([('mean_value', ()), ('mean_weight', ())])), ('train', OrderedDict([('sparse_categorical_accuracy', 0.46249047), ('loss', 1.5535946), ('num_examples', 5252), ('num_batches', 263)]))])\n",
            "--->round 10, metrics=OrderedDict([('broadcast', ()), ('aggregation', OrderedDict([('mean_value', ()), ('mean_weight', ())])), ('train', OrderedDict([('sparse_categorical_accuracy', 0.7298172), ('loss', 0.8447138), ('num_examples', 5252), ('num_batches', 263)]))])\n",
            "--->round 15, metrics=OrderedDict([('broadcast', ()), ('aggregation', OrderedDict([('mean_value', ()), ('mean_weight', ())])), ('train', OrderedDict([('sparse_categorical_accuracy', 0.90746385), ('loss', 0.34925738), ('num_examples', 5252), ('num_batches', 263)]))])\n",
            "--->round 20, metrics=OrderedDict([('broadcast', ()), ('aggregation', OrderedDict([('mean_value', ()), ('mean_weight', ())])), ('train', OrderedDict([('sparse_categorical_accuracy', 0.90003806), ('loss', 0.3656808), ('num_examples', 5252), ('num_batches', 263)]))])\n",
            "--->round 25, metrics=OrderedDict([('broadcast', ()), ('aggregation', OrderedDict([('mean_value', ()), ('mean_weight', ())])), ('train', OrderedDict([('sparse_categorical_accuracy', 0.946687), ('loss', 0.22549215), ('num_examples', 5252), ('num_batches', 263)]))])\n",
            "avg time for 1 epochs: 2.0140557956695555\n",
            "Testing accuracy\n",
            "OrderedDict([('eval', OrderedDict([('sparse_categorical_accuracy', 1.0), ('loss', 0.08418903), ('num_examples', 624), ('num_batches', 32)]))])\n",
            "-------------------------------------\n",
            "Number of clients:  4\n",
            "--->round  5, metrics=OrderedDict([('broadcast', ()), ('aggregation', OrderedDict([('mean_value', ()), ('mean_weight', ())])), ('train', OrderedDict([('sparse_categorical_accuracy', 0.44666666), ('loss', 1.6014293), ('num_examples', 9750), ('num_batches', 488)]))])\n",
            "--->round 10, metrics=OrderedDict([('broadcast', ()), ('aggregation', OrderedDict([('mean_value', ()), ('mean_weight', ())])), ('train', OrderedDict([('sparse_categorical_accuracy', 0.68810254), ('loss', 0.94673306), ('num_examples', 9750), ('num_batches', 488)]))])\n",
            "--->round 15, metrics=OrderedDict([('broadcast', ()), ('aggregation', OrderedDict([('mean_value', ()), ('mean_weight', ())])), ('train', OrderedDict([('sparse_categorical_accuracy', 0.85579485), ('loss', 0.46409982), ('num_examples', 9750), ('num_batches', 488)]))])\n",
            "--->round 20, metrics=OrderedDict([('broadcast', ()), ('aggregation', OrderedDict([('mean_value', ()), ('mean_weight', ())])), ('train', OrderedDict([('sparse_categorical_accuracy', 0.9152821), ('loss', 0.29321754), ('num_examples', 9750), ('num_batches', 488)]))])\n",
            "--->round 25, metrics=OrderedDict([('broadcast', ()), ('aggregation', OrderedDict([('mean_value', ()), ('mean_weight', ())])), ('train', OrderedDict([('sparse_categorical_accuracy', 0.97128206), ('loss', 0.113894306), ('num_examples', 9750), ('num_batches', 488)]))])\n",
            "avg time for 1 epochs: 3.3394652652740477\n",
            "Testing accuracy\n",
            "OrderedDict([('eval', OrderedDict([('sparse_categorical_accuracy', 0.8666667), ('loss', 0.6818079), ('num_examples', 1170), ('num_batches', 60)]))])\n",
            "-------------------------------------\n",
            "Number of clients:  5\n",
            "--->round  5, metrics=OrderedDict([('broadcast', ()), ('aggregation', OrderedDict([('mean_value', ()), ('mean_weight', ())])), ('train', OrderedDict([('sparse_categorical_accuracy', 0.4431891), ('loss', 1.590587), ('num_examples', 12480), ('num_batches', 625)]))])\n",
            "Testing accuracy\n",
            "OrderedDict([('eval', OrderedDict([('sparse_categorical_accuracy', 0.7017544), ('loss', 1.2773117), ('num_examples', 1482), ('num_batches', 76)]))])\n",
            "--->round 10, metrics=OrderedDict([('broadcast', ()), ('aggregation', OrderedDict([('mean_value', ()), ('mean_weight', ())])), ('train', OrderedDict([('sparse_categorical_accuracy', 0.7064102), ('loss', 0.89967924), ('num_examples', 12480), ('num_batches', 625)]))])\n",
            "Testing accuracy\n",
            "OrderedDict([('eval', OrderedDict([('sparse_categorical_accuracy', 0.71929824), ('loss', 0.8471222), ('num_examples', 1482), ('num_batches', 76)]))])\n",
            "--->round 15, metrics=OrderedDict([('broadcast', ()), ('aggregation', OrderedDict([('mean_value', ()), ('mean_weight', ())])), ('train', OrderedDict([('sparse_categorical_accuracy', 0.8364583), ('loss', 0.5190554), ('num_examples', 12480), ('num_batches', 625)]))])\n",
            "Testing accuracy\n",
            "OrderedDict([('eval', OrderedDict([('sparse_categorical_accuracy', 0.75438595), ('loss', 0.7365362), ('num_examples', 1482), ('num_batches', 76)]))])\n",
            "--->round 20, metrics=OrderedDict([('broadcast', ()), ('aggregation', OrderedDict([('mean_value', ()), ('mean_weight', ())])), ('train', OrderedDict([('sparse_categorical_accuracy', 0.91546476), ('loss', 0.29748902), ('num_examples', 12480), ('num_batches', 625)]))])\n",
            "Testing accuracy\n",
            "OrderedDict([('eval', OrderedDict([('sparse_categorical_accuracy', 0.7894737), ('loss', 0.68441606), ('num_examples', 1482), ('num_batches', 76)]))])\n",
            "--->round 25, metrics=OrderedDict([('broadcast', ()), ('aggregation', OrderedDict([('mean_value', ()), ('mean_weight', ())])), ('train', OrderedDict([('sparse_categorical_accuracy', 0.94719553), ('loss', 0.19223374), ('num_examples', 12480), ('num_batches', 625)]))])\n",
            "Testing accuracy\n",
            "OrderedDict([('eval', OrderedDict([('sparse_categorical_accuracy', 0.84210527), ('loss', 0.6280226), ('num_examples', 1482), ('num_batches', 76)]))])\n",
            "avg time for 1 epochs: 4.904640092849731\n",
            "Testing accuracy\n",
            "OrderedDict([('eval', OrderedDict([('sparse_categorical_accuracy', 0.84210527), ('loss', 0.6280226), ('num_examples', 1482), ('num_batches', 76)]))])\n",
            "-------------------------------------\n",
            "Number of clients:  6\n",
            "--->round  5, metrics=OrderedDict([('broadcast', ()), ('aggregation', OrderedDict([('mean_value', ()), ('mean_weight', ())])), ('train', OrderedDict([('sparse_categorical_accuracy', 0.4752606), ('loss', 1.5082072), ('num_examples', 15158), ('num_batches', 759)]))])\n",
            "--->round 10, metrics=OrderedDict([('broadcast', ()), ('aggregation', OrderedDict([('mean_value', ()), ('mean_weight', ())])), ('train', OrderedDict([('sparse_categorical_accuracy', 0.71863043), ('loss', 0.85960615), ('num_examples', 15158), ('num_batches', 759)]))])\n",
            "--->round 15, metrics=OrderedDict([('broadcast', ()), ('aggregation', OrderedDict([('mean_value', ()), ('mean_weight', ())])), ('train', OrderedDict([('sparse_categorical_accuracy', 0.83282757), ('loss', 0.5232548), ('num_examples', 15158), ('num_batches', 759)]))])\n",
            "--->round 20, metrics=OrderedDict([('broadcast', ()), ('aggregation', OrderedDict([('mean_value', ()), ('mean_weight', ())])), ('train', OrderedDict([('sparse_categorical_accuracy', 0.88956326), ('loss', 0.38335574), ('num_examples', 15158), ('num_batches', 759)]))])\n",
            "--->round 25, metrics=OrderedDict([('broadcast', ()), ('aggregation', OrderedDict([('mean_value', ()), ('mean_weight', ())])), ('train', OrderedDict([('sparse_categorical_accuracy', 0.934556), ('loss', 0.22983313), ('num_examples', 15158), ('num_batches', 759)]))])\n",
            "avg time for 1 epochs: 5.107487983703614\n",
            "Testing accuracy\n",
            "OrderedDict([('eval', OrderedDict([('sparse_categorical_accuracy', 0.82608694), ('loss', 0.5391589), ('num_examples', 1794), ('num_batches', 92)]))])\n",
            "-------------------------------------\n",
            "Number of clients:  8\n",
            "--->round  5, metrics=OrderedDict([('broadcast', ()), ('aggregation', OrderedDict([('mean_value', ()), ('mean_weight', ())])), ('train', OrderedDict([('sparse_categorical_accuracy', 0.4892804), ('loss', 1.4817672), ('num_examples', 20150), ('num_batches', 1010)]))])\n",
            "--->round 10, metrics=OrderedDict([('broadcast', ()), ('aggregation', OrderedDict([('mean_value', ()), ('mean_weight', ())])), ('train', OrderedDict([('sparse_categorical_accuracy', 0.70019853), ('loss', 0.91227007), ('num_examples', 20150), ('num_batches', 1010)]))])\n",
            "--->round 15, metrics=OrderedDict([('broadcast', ()), ('aggregation', OrderedDict([('mean_value', ()), ('mean_weight', ())])), ('train', OrderedDict([('sparse_categorical_accuracy', 0.8095285), ('loss', 0.5889768), ('num_examples', 20150), ('num_batches', 1010)]))])\n",
            "--->round 20, metrics=OrderedDict([('broadcast', ()), ('aggregation', OrderedDict([('mean_value', ()), ('mean_weight', ())])), ('train', OrderedDict([('sparse_categorical_accuracy', 0.8663524), ('loss', 0.42880428), ('num_examples', 20150), ('num_batches', 1010)]))])\n",
            "--->round 25, metrics=OrderedDict([('broadcast', ()), ('aggregation', OrderedDict([('mean_value', ()), ('mean_weight', ())])), ('train', OrderedDict([('sparse_categorical_accuracy', 0.895732), ('loss', 0.3538345), ('num_examples', 20150), ('num_batches', 1010)]))])\n",
            "avg time for 1 epochs: 6.676440086364746\n",
            "Testing accuracy\n",
            "OrderedDict([('eval', OrderedDict([('sparse_categorical_accuracy', 0.8369565), ('loss', 0.41359276), ('num_examples', 2392), ('num_batches', 122)]))])\n",
            "-------------------------------------\n",
            "Number of clients:  10\n",
            "--->round  5, metrics=OrderedDict([('broadcast', ()), ('aggregation', OrderedDict([('mean_value', ()), ('mean_weight', ())])), ('train', OrderedDict([('sparse_categorical_accuracy', 0.47542736), ('loss', 1.5132194), ('num_examples', 25272), ('num_batches', 1267)]))])\n",
            "Testing accuracy\n",
            "OrderedDict([('eval', OrderedDict([('sparse_categorical_accuracy', 0.6637931), ('loss', 1.2491128), ('num_examples', 3016), ('num_batches', 154)]))])\n",
            "--->round 10, metrics=OrderedDict([('broadcast', ()), ('aggregation', OrderedDict([('mean_value', ()), ('mean_weight', ())])), ('train', OrderedDict([('sparse_categorical_accuracy', 0.6902897), ('loss', 0.94718957), ('num_examples', 25272), ('num_batches', 1267)]))])\n",
            "Testing accuracy\n",
            "OrderedDict([('eval', OrderedDict([('sparse_categorical_accuracy', 0.7413793), ('loss', 0.8341074), ('num_examples', 3016), ('num_batches', 154)]))])\n",
            "--->round 15, metrics=OrderedDict([('broadcast', ()), ('aggregation', OrderedDict([('mean_value', ()), ('mean_weight', ())])), ('train', OrderedDict([('sparse_categorical_accuracy', 0.81307375), ('loss', 0.5936183), ('num_examples', 25272), ('num_batches', 1267)]))])\n",
            "Testing accuracy\n",
            "OrderedDict([('eval', OrderedDict([('sparse_categorical_accuracy', 0.7844828), ('loss', 0.6053286), ('num_examples', 3016), ('num_batches', 154)]))])\n",
            "--->round 20, metrics=OrderedDict([('broadcast', ()), ('aggregation', OrderedDict([('mean_value', ()), ('mean_weight', ())])), ('train', OrderedDict([('sparse_categorical_accuracy', 0.8708452), ('loss', 0.42422503), ('num_examples', 25272), ('num_batches', 1267)]))])\n",
            "Testing accuracy\n",
            "OrderedDict([('eval', OrderedDict([('sparse_categorical_accuracy', 0.8189655), ('loss', 0.5252416), ('num_examples', 3016), ('num_batches', 154)]))])\n",
            "--->round 25, metrics=OrderedDict([('broadcast', ()), ('aggregation', OrderedDict([('mean_value', ()), ('mean_weight', ())])), ('train', OrderedDict([('sparse_categorical_accuracy', 0.9161918), ('loss', 0.28145376), ('num_examples', 25272), ('num_batches', 1267)]))])\n",
            "Testing accuracy\n",
            "OrderedDict([('eval', OrderedDict([('sparse_categorical_accuracy', 0.82758623), ('loss', 0.48775682), ('num_examples', 3016), ('num_batches', 154)]))])\n",
            "avg time for 1 epochs: 9.691855907440186\n",
            "Testing accuracy\n",
            "OrderedDict([('eval', OrderedDict([('sparse_categorical_accuracy', 0.82758623), ('loss', 0.48775688), ('num_examples', 3016), ('num_batches', 154)]))])\n",
            "-------------------------------------\n"
          ]
        }
      ],
      "source": [
        "#NUM_CLIENTS = 4\n",
        "client_list_custom=[2,4,5,6,8,10]\n",
        "\n",
        "for cli_list in client_list_custom:\n",
        "  print(\"Number of clients: \",cli_list)\n",
        "  NUM_CLIENTS=cli_list  \n",
        "  emnist_train, emnist_test = tff.simulation.datasets.emnist.load_data()\n",
        "  example_dataset = emnist_train.create_tf_dataset_for_client(\n",
        "      emnist_train.client_ids[0])\n",
        "\n",
        "  example_element = next(iter(example_dataset))\n",
        "\n",
        "\n",
        "  NUM_EPOCHS = 26\n",
        "  BATCH_SIZE = 20\n",
        "  SHUFFLE_BUFFER = 100\n",
        "  PREFETCH_BUFFER = 10\n",
        "\n",
        "  def preprocess(dataset):\n",
        "\n",
        "    def batch_format_fn(element):\n",
        "      return collections.OrderedDict(\n",
        "          x=tf.reshape(element['pixels'], [-1, 784]),\n",
        "          y=tf.reshape(element['label'], [-1, 1]))\n",
        "\n",
        "    return dataset.repeat(NUM_EPOCHS).shuffle(SHUFFLE_BUFFER, seed=1).batch(\n",
        "        BATCH_SIZE).map(batch_format_fn).prefetch(PREFETCH_BUFFER)\n",
        "\n",
        "  preprocessed_example_dataset = preprocess(example_dataset)\n",
        "\n",
        "  sample_batch = tf.nest.map_structure(lambda x: x.numpy(), next(iter(preprocessed_example_dataset)))\n",
        "\n",
        "  def make_federated_data(client_data, client_ids):\n",
        "    return [\n",
        "        preprocess(client_data.create_tf_dataset_for_client(x))\n",
        "        for x in client_ids\n",
        "    ]\n",
        "\n",
        "\n",
        "  sample_clients = emnist_train.client_ids[0:NUM_CLIENTS]\n",
        "\n",
        "  federated_train_data = make_federated_data(emnist_train, sample_clients)\n",
        "\n",
        "\n",
        "  from tensorflow import keras\n",
        "  from tensorflow.keras import layers\n",
        "\n",
        "  def create_keras_model():\n",
        "    model = keras.Sequential(\n",
        "      [\n",
        "          keras.Input(shape=(784,)),\n",
        "          layers.Dense(512, activation='relu'),\n",
        "          layers.Dense(256, activation='relu'),\n",
        "          layers.Dropout(0.5),\n",
        "          layers.Dense(10, activation=\"softmax\"),\n",
        "      ]\n",
        "  )\n",
        "\n",
        "    return model\n",
        "\n",
        "\n",
        "  def model_fn():\n",
        "    keras_model = create_keras_model()\n",
        "    return tff.learning.from_keras_model(\n",
        "        keras_model,\n",
        "        input_spec=preprocessed_example_dataset.element_spec,\n",
        "        loss=tf.keras.losses.SparseCategoricalCrossentropy(),\n",
        "        metrics=[tf.keras.metrics.SparseCategoricalAccuracy()])  \n",
        "    \n",
        "  from keras.utils.vis_utils import plot_model\n",
        "  keras_model = create_keras_model()\n",
        "\n",
        "  iterative_process = tff.learning.build_federated_averaging_process(\n",
        "      model_fn,\n",
        "      client_optimizer_fn=lambda: tf.keras.optimizers.SGD(learning_rate=0.02),\n",
        "      server_optimizer_fn=lambda: tf.keras.optimizers.SGD(learning_rate=1.0))\n",
        "\n",
        "  state = iterative_process.initialize()\n",
        "\n",
        "  train_accuracy = []\n",
        "  test_accuracy = []\n",
        "  train_loss=[]\n",
        "  test_loss=[]\n",
        "  import time\n",
        "\n",
        "  start = time.time()\n",
        "  for round_num in range(1, NUM_EPOCHS):\n",
        "    state, metrics = iterative_process.next(state, federated_train_data)\n",
        "\n",
        "    tuple_list = list(metrics.items())\n",
        "    temp = tuple_list[2][1]\n",
        "    temp1= list(temp.items())\n",
        "    train_accuracy.append(temp1[0][1])\n",
        "    train_loss.append(temp1[1][1])\n",
        "    if(round_num%5==0):\n",
        "      print('--->round {:2d}, metrics={}'.format(round_num, metrics))\n",
        "      if(cli_list==5 or cli_list==10):\n",
        "        evaluation = tff.learning.build_federated_evaluation(model_fn)\n",
        "        federated_test_data = make_federated_data(emnist_test, sample_clients)\n",
        "        test_metrics = evaluation(state.model, federated_test_data)\n",
        "        print(\"Testing accuracy\")\n",
        "        print(str(test_metrics))\n",
        "\n",
        "  end=time.time()\n",
        "  print(\"avg time for 1 epochs:\",str((end-start)/25))\n",
        "\n",
        "  evaluation = tff.learning.build_federated_evaluation(model_fn)\n",
        "  federated_test_data = make_federated_data(emnist_test, sample_clients)\n",
        "  test_metrics = evaluation(state.model, federated_test_data)\n",
        "  print(\"Testing accuracy\")\n",
        "  print(str(test_metrics))\n",
        "  print(\"-------------------------------------\")"
      ]
    },
    {
      "cell_type": "code",
      "execution_count": null,
      "metadata": {
        "colab": {
          "base_uri": "https://localhost:8080/",
          "height": 37
        },
        "id": "o79iMvTzIlH-",
        "outputId": "f01c5168-9607-4808-f373-18f417527f9f"
      },
      "outputs": [
        {
          "data": {
            "application/vnd.google.colaboratory.intrinsic+json": {
              "type": "string"
            },
            "text/plain": [
              "\"OrderedDict([('eval', OrderedDict([('sparse_categorical_accuracy', 0.8888889), ('loss', 0.62256926), ('num_examples', 1170), ('num_batches', 60)]))])\""
            ]
          },
          "execution_count": 18,
          "metadata": {},
          "output_type": "execute_result"
        }
      ],
      "source": [
        "# evaluation = tff.learning.build_federated_evaluation(model_fn)\n",
        "# federated_test_data = make_federated_data(emnist_test, sample_clients)\n",
        "# test_metrics = evaluation(state.model, federated_test_data)\n",
        "# str(test_metrics)"
      ]
    },
    {
      "cell_type": "markdown",
      "source": [
        "# References\n",
        "1. Jakub Konečný and H. Brendan McMahan and Felix X. Yu and Peter Richtarik and Ananda Theertha Suresh and Dave Bacon. 2016. Federated Learning: Strategies for Improving Communication Efficiency. NIPS Workshop on Private Multi-Party Machine Learning. https://doi.org/10.48550/arxiv.1610.05492\n",
        "2. Kai Hu, Yaogen Li, Min Xia, Jiasheng Wu, Meixia Lu, Shuai Zhang, Liguo Weng, \"Federated Learning: A Distributed Shared Machine Learning Method\", Complexity, vol. 2021, Article ID 8261663, 20 pages, 2021. https://doi.org/10.1155/2021/8261663\n",
        "3. Qinbin Li and Zeyi Wen and Zhaomin Wu and Sixu Hu and Naibo Wang and Yuan Li and Xu Liu and Bingsheng He, \"A Survey on Federated Learning Systems: Vision, Hype and Reality for Data Privacy and Protection\", IEEE Transactions on Knowledge and Data Engineering, https://doi.org/10.1109%2Ftkde.2021.3124599\n",
        "4. McMahan, H. Brendan and Moore, Eider and Ramage, Daniel and Hampson, Seth and Arcas, Blaise Agüera y, \"Communication-Efficient Learning of Deep Networks from Decentralized Data\", https://doi.org/10.48550/arxiv.1602.05629\n",
        "5. https://flower.dev/docs/\n",
        "6. https://github.com/OpenMined/PySyft\n",
        "7. https://www.tensorflow.org/federated\n",
        "8. Brendan McMahan and Daniel Ramage, Research Scientists Google AI Blog, \"Federated Learning: Collaborative Machine Learning without Centralized Training Data\" https://ai.googleblog.com/2017/04/federated-learning-collaborative.html.\n",
        "\n",
        "\n"
      ],
      "metadata": {
        "id": "0Wu8CAyCw-gN"
      }
    }
  ],
  "metadata": {
    "accelerator": "GPU",
    "colab": {
      "collapsed_sections": [
        "bo3hu9gKbdJ2",
        "XA2UAYfrbiF9",
        "yLEJWh2fbryE",
        "09bOJAaZdLOx",
        "6w3jDK59dWPj",
        "Ud-gDfA6dbbD",
        "UvZ-TCG1dy5s",
        "5QD05_P4HBxt"
      ],
      "name": "De-Centralized Training of Deep Neural Networks using Federated Learning.ipynb",
      "provenance": []
    },
    "kernelspec": {
      "display_name": "Python 3",
      "name": "python3"
    },
    "language_info": {
      "name": "python"
    }
  },
  "nbformat": 4,
  "nbformat_minor": 0
}